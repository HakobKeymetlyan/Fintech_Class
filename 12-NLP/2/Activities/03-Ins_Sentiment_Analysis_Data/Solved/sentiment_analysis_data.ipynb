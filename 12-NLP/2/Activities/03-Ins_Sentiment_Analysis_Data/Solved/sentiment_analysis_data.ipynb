{
 "cells": [
  {
   "cell_type": "markdown",
   "metadata": {},
   "source": [
    "# Instructor Do: Getting Data for Sentiment Analysis"
   ]
  },
  {
   "cell_type": "code",
   "execution_count": 1,
   "metadata": {},
   "outputs": [],
   "source": [
    "# Initial imports\n",
    "import os\n",
    "import pandas as pd\n",
    "from newsapi import NewsApiClient\n",
    "from dotenv import load_dotenv\n",
    "load_dotenv()\n"
   ]
  },
  {
   "cell_type": "code",
   "execution_count": 2,
   "metadata": {},
   "outputs": [],
   "source": [
    "# Reading the News API key enviroment variable\n",
    "api_key = os.getenv(\"news_api\")\n",
    "\n"
   ]
  },
  {
   "cell_type": "code",
   "execution_count": 3,
   "metadata": {},
   "outputs": [],
   "source": [
    "# Create a newsapi client\n",
    "newsapi = NewsApiClient(api_key=api_key)\n",
    "\n"
   ]
  },
  {
   "cell_type": "markdown",
   "metadata": {},
   "source": [
    "**NOTE:** The news changes constantly and the api is frequently refreshing. As such, the parameters in the next step might not return as many results as the example in the lesson plan.  If **no** results are returned, try setting the `q=` parameter to another news-worthy term, or removing the `country=` parameter to broaden the search."
   ]
  },
  {
   "cell_type": "code",
   "execution_count": 4,
   "metadata": {},
   "outputs": [
    {
     "data": {
      "text/plain": [
       "{'status': 'ok',\n",
       " 'totalResults': 2,\n",
       " 'articles': [{'source': {'id': 'fox-news', 'name': 'Fox News'},\n",
       "   'author': 'Lucia Suarez Sang',\n",
       "   'title': 'UAE oil tanker missing in Strait of Hormuz after drifting into Iranian waters - Fox News',\n",
       "   'description': 'An oil tanker traveling through the tiny strip of water located in the mouth of the Persian Gulf stopped transmitting its location\\xa0more than two days ago when it drifted into Iranian waters.',\n",
       "   'url': 'https://www.foxnews.com/world/uae-oil-tanker-strait-of-hormuz-iran-waters',\n",
       "   'urlToImage': 'https://media2.foxnews.com/BrightCove/694940094001/2019/06/21/694940094001_6050822982001_6050822507001-vs.jpg',\n",
       "   'publishedAt': '2019-07-16T11:54:35Z',\n",
       "   'content': 'An oil tanker traveling through the tiny strip of water located in the mouth of the Persian Gulf stopped transmitting its location\\xa0more than two days ago when it drifted into Iranian waters.\\r\\nIt is not clear what happened to the Panamanian-flagged oil tanker … [+2963 chars]'},\n",
       "  {'source': {'id': None, 'name': 'Wbir.com'},\n",
       "   'author': None,\n",
       "   'title': \"Middle TN police department warns about 'meth-gators' from flushing drugs down toilets - WBIR.com\",\n",
       "   'description': 'Loretto PD typed up a special note in the post about how meth and drugs can affect wildlife.',\n",
       "   'url': 'https://www.wbir.com/article/news/middle-tn-police-warns-about-meth-gators-from-flushing-drugs-down-toilets/51-19ab24ca-a0ac-4737-a2a0-0a1358603faa',\n",
       "   'urlToImage': 'https://media.wbir.com/assets/WBIR/images/5fb9e872-3ea0-43c8-8977-2ebe507a3499/5fb9e872-3ea0-43c8-8977-2ebe507a3499_1140x641.jpg',\n",
       "   'publishedAt': '2019-07-15T20:46:00Z',\n",
       "   'content': 'LORETTO, Tenn. \"Folks... please dont flush your drugs mkay.\"\\r\\nA Middle Tennessee police department is warning people about flushing drugs down the toilet, saying fowls and alligators on meth are possible.\\r\\nThe Loretto Police Department posted about a drug rou… [+896 chars]'}]}"
      ]
     },
     "execution_count": 4,
     "metadata": {},
     "output_type": "execute_result"
    }
   ],
   "source": [
    "# Fetch top news articles about oil\n",
    "oil_headlines = newsapi.get_top_headlines(q=\"oil\", language=\"en\", country=\"us\")\n",
    "oil_headlines\n",
    "\n"
   ]
  },
  {
   "cell_type": "code",
   "execution_count": 5,
   "metadata": {},
   "outputs": [
    {
     "name": "stdout",
     "output_type": "stream",
     "text": [
      "Total articles about oil: 2\n"
     ]
    },
    {
     "data": {
      "text/plain": [
       "{'source': {'id': 'fox-news', 'name': 'Fox News'},\n",
       " 'author': 'Lucia Suarez Sang',\n",
       " 'title': 'UAE oil tanker missing in Strait of Hormuz after drifting into Iranian waters - Fox News',\n",
       " 'description': 'An oil tanker traveling through the tiny strip of water located in the mouth of the Persian Gulf stopped transmitting its location\\xa0more than two days ago when it drifted into Iranian waters.',\n",
       " 'url': 'https://www.foxnews.com/world/uae-oil-tanker-strait-of-hormuz-iran-waters',\n",
       " 'urlToImage': 'https://media2.foxnews.com/BrightCove/694940094001/2019/06/21/694940094001_6050822982001_6050822507001-vs.jpg',\n",
       " 'publishedAt': '2019-07-16T11:54:35Z',\n",
       " 'content': 'An oil tanker traveling through the tiny strip of water located in the mouth of the Persian Gulf stopped transmitting its location\\xa0more than two days ago when it drifted into Iranian waters.\\r\\nIt is not clear what happened to the Panamanian-flagged oil tanker … [+2963 chars]'}"
      ]
     },
     "execution_count": 5,
     "metadata": {},
     "output_type": "execute_result"
    }
   ],
   "source": [
    "# Print total articles\n",
    "print(f\"Total articles about oil: {oil_headlines['totalResults']}\")\n",
    "\n",
    "# Show sample article\n",
    "oil_headlines[\"articles\"][0]\n",
    "\n"
   ]
  },
  {
   "cell_type": "code",
   "execution_count": 6,
   "metadata": {},
   "outputs": [
    {
     "data": {
      "text/html": [
       "<div>\n",
       "<style scoped>\n",
       "    .dataframe tbody tr th:only-of-type {\n",
       "        vertical-align: middle;\n",
       "    }\n",
       "\n",
       "    .dataframe tbody tr th {\n",
       "        vertical-align: top;\n",
       "    }\n",
       "\n",
       "    .dataframe thead th {\n",
       "        text-align: right;\n",
       "    }\n",
       "</style>\n",
       "<table border=\"1\" class=\"dataframe\">\n",
       "  <thead>\n",
       "    <tr style=\"text-align: right;\">\n",
       "      <th></th>\n",
       "      <th>author</th>\n",
       "      <th>content</th>\n",
       "      <th>description</th>\n",
       "      <th>publishedAt</th>\n",
       "      <th>source</th>\n",
       "      <th>title</th>\n",
       "      <th>url</th>\n",
       "      <th>urlToImage</th>\n",
       "    </tr>\n",
       "  </thead>\n",
       "  <tbody>\n",
       "    <tr>\n",
       "      <th>0</th>\n",
       "      <td>Lucia Suarez Sang</td>\n",
       "      <td>An oil tanker traveling through the tiny strip...</td>\n",
       "      <td>An oil tanker traveling through the tiny strip...</td>\n",
       "      <td>2019-07-16T11:54:35Z</td>\n",
       "      <td>{'id': 'fox-news', 'name': 'Fox News'}</td>\n",
       "      <td>UAE oil tanker missing in Strait of Hormuz aft...</td>\n",
       "      <td>https://www.foxnews.com/world/uae-oil-tanker-s...</td>\n",
       "      <td>https://media2.foxnews.com/BrightCove/69494009...</td>\n",
       "    </tr>\n",
       "    <tr>\n",
       "      <th>1</th>\n",
       "      <td>None</td>\n",
       "      <td>LORETTO, Tenn. \"Folks... please dont flush you...</td>\n",
       "      <td>Loretto PD typed up a special note in the post...</td>\n",
       "      <td>2019-07-15T20:46:00Z</td>\n",
       "      <td>{'id': None, 'name': 'Wbir.com'}</td>\n",
       "      <td>Middle TN police department warns about 'meth-...</td>\n",
       "      <td>https://www.wbir.com/article/news/middle-tn-po...</td>\n",
       "      <td>https://media.wbir.com/assets/WBIR/images/5fb9...</td>\n",
       "    </tr>\n",
       "  </tbody>\n",
       "</table>\n",
       "</div>"
      ],
      "text/plain": [
       "              author                                            content  \\\n",
       "0  Lucia Suarez Sang  An oil tanker traveling through the tiny strip...   \n",
       "1               None  LORETTO, Tenn. \"Folks... please dont flush you...   \n",
       "\n",
       "                                         description           publishedAt  \\\n",
       "0  An oil tanker traveling through the tiny strip...  2019-07-16T11:54:35Z   \n",
       "1  Loretto PD typed up a special note in the post...  2019-07-15T20:46:00Z   \n",
       "\n",
       "                                   source  \\\n",
       "0  {'id': 'fox-news', 'name': 'Fox News'}   \n",
       "1        {'id': None, 'name': 'Wbir.com'}   \n",
       "\n",
       "                                               title  \\\n",
       "0  UAE oil tanker missing in Strait of Hormuz aft...   \n",
       "1  Middle TN police department warns about 'meth-...   \n",
       "\n",
       "                                                 url  \\\n",
       "0  https://www.foxnews.com/world/uae-oil-tanker-s...   \n",
       "1  https://www.wbir.com/article/news/middle-tn-po...   \n",
       "\n",
       "                                          urlToImage  \n",
       "0  https://media2.foxnews.com/BrightCove/69494009...  \n",
       "1  https://media.wbir.com/assets/WBIR/images/5fb9...  "
      ]
     },
     "execution_count": 6,
     "metadata": {},
     "output_type": "execute_result"
    }
   ],
   "source": [
    "# Transform the response dictionary to a DataFrame\n",
    "oil_df = pd.DataFrame.from_dict(oil_headlines[\"articles\"])\n",
    "\n",
    "oil_df.head()\n",
    "\n"
   ]
  },
  {
   "cell_type": "code",
   "execution_count": 7,
   "metadata": {},
   "outputs": [
    {
     "name": "stdout",
     "output_type": "stream",
     "text": [
      "Total articles about Facebook Libra: 3733\n"
     ]
    },
    {
     "data": {
      "text/plain": [
       "{'source': {'id': 'techcrunch', 'name': 'TechCrunch'},\n",
       " 'author': 'Romain Dillet',\n",
       " 'title': 'What is the Libra Association going to do, really?',\n",
       " 'description': 'When Facebook unveiled Libra a few days ago, the company also announced the Libra Association, a not-for-profit that will oversee all things Libra. Facebook wants to make sure that everyone is aware that Libra was created by Facebook but isn’t controlled by F…',\n",
       " 'url': 'http://techcrunch.com/2019/06/26/what-is-the-libra-association-going-to-do-really/',\n",
       " 'urlToImage': 'https://techcrunch.com/wp-content/uploads/2019/06/GettyImages-1146087387.jpg?w=590',\n",
       " 'publishedAt': '2019-06-26T17:26:16Z',\n",
       " 'content': 'When Facebook unveiledLibra a few days ago, the company also announced the Libra Association, a not-for-profit that will oversee all things Libra. Facebook wants to make sure that everyone is aware that Libra was created by Facebook but isnt controlled by Fac… [+2026 chars]'}"
      ]
     },
     "execution_count": 7,
     "metadata": {},
     "output_type": "execute_result"
    }
   ],
   "source": [
    "# Fetch all the news about Facebook Libra\n",
    "libra_headlines = newsapi.get_everything(\n",
    "    q=\"facebook libra\", language=\"en\", sort_by=\"relevancy\"\n",
    ")\n",
    "\n",
    "# Print total articles\n",
    "print(f\"Total articles about Facebook Libra: {libra_headlines['totalResults']}\")\n",
    "\n",
    "# Show sample article\n",
    "libra_headlines[\"articles\"][0]\n",
    "\n"
   ]
  },
  {
   "cell_type": "code",
   "execution_count": 8,
   "metadata": {},
   "outputs": [
    {
     "data": {
      "text/html": [
       "<div>\n",
       "<style scoped>\n",
       "    .dataframe tbody tr th:only-of-type {\n",
       "        vertical-align: middle;\n",
       "    }\n",
       "\n",
       "    .dataframe tbody tr th {\n",
       "        vertical-align: top;\n",
       "    }\n",
       "\n",
       "    .dataframe thead th {\n",
       "        text-align: right;\n",
       "    }\n",
       "</style>\n",
       "<table border=\"1\" class=\"dataframe\">\n",
       "  <thead>\n",
       "    <tr style=\"text-align: right;\">\n",
       "      <th></th>\n",
       "      <th>author</th>\n",
       "      <th>content</th>\n",
       "      <th>description</th>\n",
       "      <th>publishedAt</th>\n",
       "      <th>source</th>\n",
       "      <th>title</th>\n",
       "      <th>url</th>\n",
       "      <th>urlToImage</th>\n",
       "    </tr>\n",
       "  </thead>\n",
       "  <tbody>\n",
       "    <tr>\n",
       "      <th>0</th>\n",
       "      <td>Romain Dillet</td>\n",
       "      <td>When Facebook unveiledLibra a few days ago, th...</td>\n",
       "      <td>When Facebook unveiled Libra a few days ago, t...</td>\n",
       "      <td>2019-06-26T17:26:16Z</td>\n",
       "      <td>{'id': 'techcrunch', 'name': 'TechCrunch'}</td>\n",
       "      <td>What is the Libra Association going to do, rea...</td>\n",
       "      <td>http://techcrunch.com/2019/06/26/what-is-the-l...</td>\n",
       "      <td>https://techcrunch.com/wp-content/uploads/2019...</td>\n",
       "    </tr>\n",
       "    <tr>\n",
       "      <th>1</th>\n",
       "      <td>Nick Douglas</td>\n",
       "      <td>On Tuesday Facebook announced Libra, a cryptoc...</td>\n",
       "      <td>On Tuesday Facebook announced Libra, a cryptoc...</td>\n",
       "      <td>2019-06-19T13:49:00Z</td>\n",
       "      <td>{'id': None, 'name': 'Lifehacker.com'}</td>\n",
       "      <td>Facebook's New Libra Coin: How Does It Work, a...</td>\n",
       "      <td>https://lifehacker.com/facebooks-new-libra-coi...</td>\n",
       "      <td>https://i.kinja-img.com/gawker-media/image/upl...</td>\n",
       "    </tr>\n",
       "    <tr>\n",
       "      <th>2</th>\n",
       "      <td>Josh Constine</td>\n",
       "      <td>The $10 million entry fee to join the Facebook...</td>\n",
       "      <td>The $10 million entry fee to join the Facebook...</td>\n",
       "      <td>2019-07-03T19:29:54Z</td>\n",
       "      <td>{'id': 'techcrunch', 'name': 'TechCrunch'}</td>\n",
       "      <td>We still don’t know how much of Libra Facebook...</td>\n",
       "      <td>http://techcrunch.com/2019/07/03/facebook-libr...</td>\n",
       "      <td>https://techcrunch.com/wp-content/uploads/2019...</td>\n",
       "    </tr>\n",
       "    <tr>\n",
       "      <th>3</th>\n",
       "      <td>Jon Fingas</td>\n",
       "      <td>He added that Facebook is treating Libra as a ...</td>\n",
       "      <td>Facebook is determined to reassure officials t...</td>\n",
       "      <td>2019-07-15T17:14:00Z</td>\n",
       "      <td>{'id': 'engadget', 'name': 'Engadget'}</td>\n",
       "      <td>Facebook won't make Libra available until regu...</td>\n",
       "      <td>https://www.engadget.com/2019/07/15/facebook-t...</td>\n",
       "      <td>https://o.aolcdn.com/images/dims?thumbnail=120...</td>\n",
       "    </tr>\n",
       "    <tr>\n",
       "      <th>4</th>\n",
       "      <td>Steve Dent</td>\n",
       "      <td>\"We write to request that Facebook and its par...</td>\n",
       "      <td>US lawmakers have asked Facebook to \"immediate...</td>\n",
       "      <td>2019-07-03T09:31:00Z</td>\n",
       "      <td>{'id': 'engadget', 'name': 'Engadget'}</td>\n",
       "      <td>US lawmakers tell Facebook to halt the launch ...</td>\n",
       "      <td>https://www.engadget.com/2019/07/03/us-lawmake...</td>\n",
       "      <td>https://o.aolcdn.com/images/dims?thumbnail=120...</td>\n",
       "    </tr>\n",
       "  </tbody>\n",
       "</table>\n",
       "</div>"
      ],
      "text/plain": [
       "          author                                            content  \\\n",
       "0  Romain Dillet  When Facebook unveiledLibra a few days ago, th...   \n",
       "1   Nick Douglas  On Tuesday Facebook announced Libra, a cryptoc...   \n",
       "2  Josh Constine  The $10 million entry fee to join the Facebook...   \n",
       "3     Jon Fingas  He added that Facebook is treating Libra as a ...   \n",
       "4     Steve Dent  \"We write to request that Facebook and its par...   \n",
       "\n",
       "                                         description           publishedAt  \\\n",
       "0  When Facebook unveiled Libra a few days ago, t...  2019-06-26T17:26:16Z   \n",
       "1  On Tuesday Facebook announced Libra, a cryptoc...  2019-06-19T13:49:00Z   \n",
       "2  The $10 million entry fee to join the Facebook...  2019-07-03T19:29:54Z   \n",
       "3  Facebook is determined to reassure officials t...  2019-07-15T17:14:00Z   \n",
       "4  US lawmakers have asked Facebook to \"immediate...  2019-07-03T09:31:00Z   \n",
       "\n",
       "                                       source  \\\n",
       "0  {'id': 'techcrunch', 'name': 'TechCrunch'}   \n",
       "1      {'id': None, 'name': 'Lifehacker.com'}   \n",
       "2  {'id': 'techcrunch', 'name': 'TechCrunch'}   \n",
       "3      {'id': 'engadget', 'name': 'Engadget'}   \n",
       "4      {'id': 'engadget', 'name': 'Engadget'}   \n",
       "\n",
       "                                               title  \\\n",
       "0  What is the Libra Association going to do, rea...   \n",
       "1  Facebook's New Libra Coin: How Does It Work, a...   \n",
       "2  We still don’t know how much of Libra Facebook...   \n",
       "3  Facebook won't make Libra available until regu...   \n",
       "4  US lawmakers tell Facebook to halt the launch ...   \n",
       "\n",
       "                                                 url  \\\n",
       "0  http://techcrunch.com/2019/06/26/what-is-the-l...   \n",
       "1  https://lifehacker.com/facebooks-new-libra-coi...   \n",
       "2  http://techcrunch.com/2019/07/03/facebook-libr...   \n",
       "3  https://www.engadget.com/2019/07/15/facebook-t...   \n",
       "4  https://www.engadget.com/2019/07/03/us-lawmake...   \n",
       "\n",
       "                                          urlToImage  \n",
       "0  https://techcrunch.com/wp-content/uploads/2019...  \n",
       "1  https://i.kinja-img.com/gawker-media/image/upl...  \n",
       "2  https://techcrunch.com/wp-content/uploads/2019...  \n",
       "3  https://o.aolcdn.com/images/dims?thumbnail=120...  \n",
       "4  https://o.aolcdn.com/images/dims?thumbnail=120...  "
      ]
     },
     "execution_count": 8,
     "metadata": {},
     "output_type": "execute_result"
    }
   ],
   "source": [
    "# Transform the response dictionary to a DataFrame\n",
    "libra_df = pd.DataFrame.from_dict(libra_headlines[\"articles\"])\n",
    "\n",
    "libra_df.head()\n"
   ]
  }
 ],
 "metadata": {
  "file_extension": ".py",
  "kernelspec": {
   "display_name": "Python 3",
   "language": "python",
   "name": "python3"
  },
  "language_info": {
   "codemirror_mode": {
    "name": "ipython",
    "version": 3
   },
   "file_extension": ".py",
   "mimetype": "text/x-python",
   "name": "python",
   "nbconvert_exporter": "python",
   "pygments_lexer": "ipython3",
   "version": "3.7.10"
  },
  "mimetype": "text/x-python",
  "name": "python",
  "npconvert_exporter": "python",
  "pygments_lexer": "ipython3",
  "version": 3
 },
 "nbformat": 4,
 "nbformat_minor": 4
}
