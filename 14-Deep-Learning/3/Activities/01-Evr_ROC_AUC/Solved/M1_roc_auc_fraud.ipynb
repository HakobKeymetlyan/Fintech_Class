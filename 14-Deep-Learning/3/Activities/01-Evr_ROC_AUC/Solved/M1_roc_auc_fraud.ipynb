{
  "nbformat": 4,
  "nbformat_minor": 0,
  "metadata": {
    "colab": {
      "name": "M1_roc_auc_fraud.ipynb",
      "provenance": []
    },
    "file_extension": ".py",
    "kernelspec": {
      "display_name": "Python [conda env:blended2] *",
      "language": "python",
      "name": "conda-env-blended2-py"
    },
    "language_info": {
      "codemirror_mode": {
        "name": "ipython",
        "version": 3
      },
      "file_extension": ".py",
      "mimetype": "text/x-python",
      "name": "python",
      "nbconvert_exporter": "python",
      "pygments_lexer": "ipython3",
      "version": "3.7.10"
    },
    "mimetype": "text/x-python",
    "name": "python",
    "npconvert_exporter": "python",
    "pygments_lexer": "ipython3",
    "version": 3
  },
  "cells": [
    {
      "cell_type": "markdown",
      "metadata": {
        "id": "ynxkOKczthD2"
      },
      "source": [
        "# Instructor Do: Intro to the ROC Curve and AUC\n",
        "\n",
        "In this activity, students will learn how to measure the performance of a binary classification model by fetching metrics from Keras, as well as plotting and interpreting the ROC curve and AUC."
      ]
    },
    {
      "cell_type": "code",
      "metadata": {
        "id": "DoLE1VbmthD5"
      },
      "source": [
        "# Initial imports\n",
        "import pandas as pd\n",
        "import numpy as np\n",
        "import matplotlib.pyplot as plt\n",
        "import tensorflow as tf\n",
        "\n",
        "%matplotlib inline"
      ],
      "execution_count": 1,
      "outputs": []
    },
    {
      "cell_type": "markdown",
      "metadata": {
        "id": "Vi19HkoVthD6"
      },
      "source": [
        "## The Dataset\n",
        "\n",
        "The data provided for this demo contains anonymous information about `284807` credit card transactions made by European credit cardholders in September 2013.\n",
        "\n",
        "The dataset is going to be used to create a binary classification model using a deep neural network to detect fraudulent transactions. It contains nine numerical variables, which are the result of PCA transformation to protect the confidentiality of credit cardholders. Only the transaction amount can be seen as is.\n",
        "\n",
        "This dataset is an abstract of the file shared by the [Machine Learning Group](http://mlg.ulb.ac.be) of the Université Libre de Bruxelles (ULB)."
      ]
    },
    {
      "cell_type": "code",
      "metadata": {
        "colab": {
          "resources": {
            "http://localhost:8080/nbextensions/google.colab/files.js": {
              "data": "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",
              "ok": true,
              "headers": [
                [
                  "content-type",
                  "application/javascript"
                ]
              ],
              "status": 200,
              "status_text": ""
            }
          },
          "base_uri": "https://localhost:8080/",
          "height": 72
        },
        "id": "6MwgFVy0tlZ_",
        "outputId": "0c64f946-a433-41d0-febc-d5b98497b6ff"
      },
      "source": [
        "# Upload data to Colab\n",
        "from google.colab import files\n",
        "\n",
        "# Upload transactions.csv\n",
        "csv_file = files.upload()"
      ],
      "execution_count": 2,
      "outputs": [
        {
          "output_type": "display_data",
          "data": {
            "text/html": [
              "\n",
              "     <input type=\"file\" id=\"files-22b5bb3a-ef26-4e85-b78b-95159da53b67\" name=\"files[]\" multiple disabled\n",
              "        style=\"border:none\" />\n",
              "     <output id=\"result-22b5bb3a-ef26-4e85-b78b-95159da53b67\">\n",
              "      Upload widget is only available when the cell has been executed in the\n",
              "      current browser session. Please rerun this cell to enable.\n",
              "      </output>\n",
              "      <script src=\"/nbextensions/google.colab/files.js\"></script> "
            ],
            "text/plain": [
              "<IPython.core.display.HTML object>"
            ]
          },
          "metadata": {}
        },
        {
          "output_type": "stream",
          "text": [
            "Saving transactions.csv to transactions (2).csv\n"
          ],
          "name": "stdout"
        }
      ]
    },
    {
      "cell_type": "code",
      "metadata": {
        "colab": {
          "base_uri": "https://localhost:8080/",
          "height": 204
        },
        "id": "emJj1xpMthD7",
        "outputId": "77eca27f-68c2-4bad-fc4f-07287b55609d"
      },
      "source": [
        "# Read csv into DataFrame\n",
        "transactions_df = pd.read_csv(\"transactions.csv\")\n",
        "transactions_df.head()"
      ],
      "execution_count": 3,
      "outputs": [
        {
          "output_type": "execute_result",
          "data": {
            "text/html": [
              "<div>\n",
              "<style scoped>\n",
              "    .dataframe tbody tr th:only-of-type {\n",
              "        vertical-align: middle;\n",
              "    }\n",
              "\n",
              "    .dataframe tbody tr th {\n",
              "        vertical-align: top;\n",
              "    }\n",
              "\n",
              "    .dataframe thead th {\n",
              "        text-align: right;\n",
              "    }\n",
              "</style>\n",
              "<table border=\"1\" class=\"dataframe\">\n",
              "  <thead>\n",
              "    <tr style=\"text-align: right;\">\n",
              "      <th></th>\n",
              "      <th>V1</th>\n",
              "      <th>V2</th>\n",
              "      <th>V3</th>\n",
              "      <th>V4</th>\n",
              "      <th>V5</th>\n",
              "      <th>V6</th>\n",
              "      <th>V7</th>\n",
              "      <th>V8</th>\n",
              "      <th>V9</th>\n",
              "      <th>Amount</th>\n",
              "      <th>Class</th>\n",
              "    </tr>\n",
              "  </thead>\n",
              "  <tbody>\n",
              "    <tr>\n",
              "      <th>0</th>\n",
              "      <td>-1.359807</td>\n",
              "      <td>-0.072781</td>\n",
              "      <td>2.536347</td>\n",
              "      <td>1.378155</td>\n",
              "      <td>-0.338321</td>\n",
              "      <td>0.462388</td>\n",
              "      <td>0.239599</td>\n",
              "      <td>0.098698</td>\n",
              "      <td>0.363787</td>\n",
              "      <td>149.62</td>\n",
              "      <td>0</td>\n",
              "    </tr>\n",
              "    <tr>\n",
              "      <th>1</th>\n",
              "      <td>1.191857</td>\n",
              "      <td>0.266151</td>\n",
              "      <td>0.166480</td>\n",
              "      <td>0.448154</td>\n",
              "      <td>0.060018</td>\n",
              "      <td>-0.082361</td>\n",
              "      <td>-0.078803</td>\n",
              "      <td>0.085102</td>\n",
              "      <td>-0.255425</td>\n",
              "      <td>2.69</td>\n",
              "      <td>0</td>\n",
              "    </tr>\n",
              "    <tr>\n",
              "      <th>2</th>\n",
              "      <td>-1.358354</td>\n",
              "      <td>-1.340163</td>\n",
              "      <td>1.773209</td>\n",
              "      <td>0.379780</td>\n",
              "      <td>-0.503198</td>\n",
              "      <td>1.800499</td>\n",
              "      <td>0.791461</td>\n",
              "      <td>0.247676</td>\n",
              "      <td>-1.514654</td>\n",
              "      <td>378.66</td>\n",
              "      <td>0</td>\n",
              "    </tr>\n",
              "    <tr>\n",
              "      <th>3</th>\n",
              "      <td>-0.966272</td>\n",
              "      <td>-0.185226</td>\n",
              "      <td>1.792993</td>\n",
              "      <td>-0.863291</td>\n",
              "      <td>-0.010309</td>\n",
              "      <td>1.247203</td>\n",
              "      <td>0.237609</td>\n",
              "      <td>0.377436</td>\n",
              "      <td>-1.387024</td>\n",
              "      <td>123.50</td>\n",
              "      <td>0</td>\n",
              "    </tr>\n",
              "    <tr>\n",
              "      <th>4</th>\n",
              "      <td>-1.158233</td>\n",
              "      <td>0.877737</td>\n",
              "      <td>1.548718</td>\n",
              "      <td>0.403034</td>\n",
              "      <td>-0.407193</td>\n",
              "      <td>0.095921</td>\n",
              "      <td>0.592941</td>\n",
              "      <td>-0.270533</td>\n",
              "      <td>0.817739</td>\n",
              "      <td>69.99</td>\n",
              "      <td>0</td>\n",
              "    </tr>\n",
              "  </tbody>\n",
              "</table>\n",
              "</div>"
            ],
            "text/plain": [
              "         V1        V2        V3        V4  ...        V8        V9  Amount  Class\n",
              "0 -1.359807 -0.072781  2.536347  1.378155  ...  0.098698  0.363787  149.62      0\n",
              "1  1.191857  0.266151  0.166480  0.448154  ...  0.085102 -0.255425    2.69      0\n",
              "2 -1.358354 -1.340163  1.773209  0.379780  ...  0.247676 -1.514654  378.66      0\n",
              "3 -0.966272 -0.185226  1.792993 -0.863291  ...  0.377436 -1.387024  123.50      0\n",
              "4 -1.158233  0.877737  1.548718  0.403034  ... -0.270533  0.817739   69.99      0\n",
              "\n",
              "[5 rows x 11 columns]"
            ]
          },
          "metadata": {},
          "execution_count": 3
        }
      ]
    },
    {
      "cell_type": "markdown",
      "metadata": {
        "id": "mIl07LdzthD8"
      },
      "source": [
        "## Data Preprocessing"
      ]
    },
    {
      "cell_type": "code",
      "metadata": {
        "id": "mwzUjsDWthD9"
      },
      "source": [
        "# Creating the X and y sets\n",
        "X = transactions_df.iloc[:, 0:10].values\n",
        "y = transactions_df[\"Class\"].values"
      ],
      "execution_count": 4,
      "outputs": []
    },
    {
      "cell_type": "code",
      "metadata": {
        "id": "WgypbzUrthD-"
      },
      "source": [
        "# Creating training, validation, and testing sets\n",
        "from sklearn.model_selection import train_test_split\n",
        "\n",
        "X_train, X_test, y_train, y_test = train_test_split(X, y, random_state=78)\n",
        "\n",
        "X_train, X_val, y_train, y_val = train_test_split(X_train, y_train, random_state=78)"
      ],
      "execution_count": 5,
      "outputs": []
    },
    {
      "cell_type": "code",
      "metadata": {
        "id": "-aH-uFSLthD9"
      },
      "source": [
        "# Import the StandardScaler from sklearn\n",
        "from sklearn.preprocessing import StandardScaler\n",
        "\n",
        "# Scale the data\n",
        "scaler = StandardScaler().fit(X_train)\n",
        "X_train = scaler.transform(X_train)"
      ],
      "execution_count": 6,
      "outputs": []
    },
    {
      "cell_type": "markdown",
      "metadata": {
        "id": "_CHb65v3thD_"
      },
      "source": [
        "## Build and Train the Deep Learning Model"
      ]
    },
    {
      "cell_type": "markdown",
      "metadata": {
        "id": "VsZKRYWlthD_"
      },
      "source": [
        " ### Importing the Keras Modules"
      ]
    },
    {
      "cell_type": "code",
      "metadata": {
        "id": "wUMEyrfjthEA"
      },
      "source": [
        "# Import Keras modules for model creation\n",
        "from tensorflow.keras.models import Sequential\n",
        "from tensorflow.keras.layers import Dense"
      ],
      "execution_count": 7,
      "outputs": []
    },
    {
      "cell_type": "markdown",
      "metadata": {
        "id": "NwviEn3pthEA"
      },
      "source": [
        " ### Setting Up the Model"
      ]
    },
    {
      "cell_type": "code",
      "metadata": {
        "id": "RMnJuse1thEA"
      },
      "source": [
        "# Model set-up\n",
        "number_input_features = 10\n",
        "hidden_nodes_layer1 = 15\n",
        "hidden_nodes_layer2 = 5"
      ],
      "execution_count": 8,
      "outputs": []
    },
    {
      "cell_type": "markdown",
      "metadata": {
        "id": "jjzk-MrcthEB"
      },
      "source": [
        " ### Defining the Model's Structure"
      ]
    },
    {
      "cell_type": "code",
      "metadata": {
        "id": "tSY7mucXthEB"
      },
      "source": [
        "# Define the LSTM RNN model\n",
        "model = Sequential()\n",
        "\n",
        "# Layer 1\n",
        "model.add(\n",
        "    Dense(units=hidden_nodes_layer1, input_dim=number_input_features, activation=\"relu\")\n",
        ")\n",
        "\n",
        "# Layer 2\n",
        "model.add(Dense(units=hidden_nodes_layer2, activation=\"relu\"))\n",
        "\n",
        "# Output layer\n",
        "model.add(Dense(1, activation=\"sigmoid\"))"
      ],
      "execution_count": 9,
      "outputs": []
    },
    {
      "cell_type": "markdown",
      "metadata": {
        "id": "Jtn3WrckthEB"
      },
      "source": [
        " ### Compiling the Model"
      ]
    },
    {
      "cell_type": "code",
      "metadata": {
        "id": "gq-lVDrgthEC"
      },
      "source": [
        "# Compile the model\n",
        "model.compile(\n",
        "    loss=\"binary_crossentropy\",\n",
        "    optimizer=\"adam\",\n",
        "    metrics=[\n",
        "        \"accuracy\",\n",
        "        tf.keras.metrics.TruePositives(name=\"tp\"),\n",
        "        tf.keras.metrics.TrueNegatives(name=\"tn\"),\n",
        "        tf.keras.metrics.FalsePositives(name=\"fp\"),\n",
        "        tf.keras.metrics.FalseNegatives(name=\"fn\"),\n",
        "        tf.keras.metrics.Precision(name=\"precision\"),\n",
        "        tf.keras.metrics.Recall(name=\"recall\"),\n",
        "        tf.keras.metrics.AUC(name=\"auc\"),\n",
        "    ],\n",
        ")"
      ],
      "execution_count": 10,
      "outputs": []
    },
    {
      "cell_type": "code",
      "metadata": {
        "colab": {
          "base_uri": "https://localhost:8080/"
        },
        "id": "Me8W4dzwthEC",
        "outputId": "9264edc8-7d14-403c-9749-9e42d477bb50"
      },
      "source": [
        "# Summarize the model\n",
        "model.summary()"
      ],
      "execution_count": 11,
      "outputs": [
        {
          "output_type": "stream",
          "text": [
            "Model: \"sequential\"\n",
            "_________________________________________________________________\n",
            "Layer (type)                 Output Shape              Param #   \n",
            "=================================================================\n",
            "dense (Dense)                (None, 15)                165       \n",
            "_________________________________________________________________\n",
            "dense_1 (Dense)              (None, 5)                 80        \n",
            "_________________________________________________________________\n",
            "dense_2 (Dense)              (None, 1)                 6         \n",
            "=================================================================\n",
            "Total params: 251\n",
            "Trainable params: 251\n",
            "Non-trainable params: 0\n",
            "_________________________________________________________________\n"
          ],
          "name": "stdout"
        }
      ]
    },
    {
      "cell_type": "markdown",
      "metadata": {
        "id": "HtmdQSPkthED"
      },
      "source": [
        " ### Training the Model"
      ]
    },
    {
      "cell_type": "code",
      "metadata": {
        "colab": {
          "base_uri": "https://localhost:8080/"
        },
        "id": "exU4MdmIthED",
        "outputId": "67178045-7c20-461c-d60c-5f6341438524"
      },
      "source": [
        "# Training the model\n",
        "batch_size = 1000\n",
        "epochs = 50\n",
        "training_history = model.fit(\n",
        "    X_train,\n",
        "    y_train,\n",
        "    validation_data=(X_val, y_val),\n",
        "    epochs=epochs,\n",
        "    batch_size=batch_size,\n",
        "    verbose=1,\n",
        ")"
      ],
      "execution_count": 12,
      "outputs": [
        {
          "output_type": "stream",
          "text": [
            "Epoch 1/50\n",
            "161/161 [==============================] - 3s 9ms/step - loss: 0.5676 - accuracy: 0.7771 - tp: 119.0000 - tn: 124376.0000 - fp: 35570.0000 - fn: 138.0000 - precision: 0.0033 - recall: 0.4630 - auc: 0.5819 - val_loss: 0.1522 - val_accuracy: 0.9979 - val_tp: 0.0000e+00 - val_tn: 53289.0000 - val_fp: 8.0000 - val_fn: 105.0000 - val_precision: 0.0000e+00 - val_recall: 0.0000e+00 - val_auc: 0.5736\n",
            "Epoch 2/50\n",
            "161/161 [==============================] - 1s 4ms/step - loss: 0.1395 - accuracy: 0.9984 - tp: 0.0000e+00 - tn: 159941.0000 - fp: 5.0000 - fn: 257.0000 - precision: 0.0000e+00 - recall: 0.0000e+00 - auc: 0.2760 - val_loss: 0.1550 - val_accuracy: 0.9980 - val_tp: 0.0000e+00 - val_tn: 53297.0000 - val_fp: 0.0000e+00 - val_fn: 105.0000 - val_precision: 0.0000e+00 - val_recall: 0.0000e+00 - val_auc: 0.5517\n",
            "Epoch 3/50\n",
            "161/161 [==============================] - 1s 4ms/step - loss: 0.0323 - accuracy: 0.9984 - tp: 0.0000e+00 - tn: 159946.0000 - fp: 0.0000e+00 - fn: 257.0000 - precision: 0.0000e+00 - recall: 0.0000e+00 - auc: 0.5666 - val_loss: 0.1371 - val_accuracy: 0.9981 - val_tp: 3.0000 - val_tn: 53296.0000 - val_fp: 1.0000 - val_fn: 102.0000 - val_precision: 0.7500 - val_recall: 0.0286 - val_auc: 0.6424\n",
            "Epoch 4/50\n",
            "161/161 [==============================] - 1s 4ms/step - loss: 0.0155 - accuracy: 0.9985 - tp: 31.0000 - tn: 159938.0000 - fp: 8.0000 - fn: 226.0000 - precision: 0.7949 - recall: 0.1206 - auc: 0.7673 - val_loss: 0.1234 - val_accuracy: 0.9982 - val_tp: 15.0000 - val_tn: 53292.0000 - val_fp: 5.0000 - val_fn: 90.0000 - val_precision: 0.7500 - val_recall: 0.1429 - val_auc: 0.6877\n",
            "Epoch 5/50\n",
            "161/161 [==============================] - 1s 3ms/step - loss: 0.0106 - accuracy: 0.9987 - tp: 75.0000 - tn: 159925.0000 - fp: 21.0000 - fn: 182.0000 - precision: 0.7812 - recall: 0.2918 - auc: 0.8302 - val_loss: 0.1117 - val_accuracy: 0.9982 - val_tp: 21.0000 - val_tn: 53286.0000 - val_fp: 11.0000 - val_fn: 84.0000 - val_precision: 0.6562 - val_recall: 0.2000 - val_auc: 0.7115\n",
            "Epoch 6/50\n",
            "161/161 [==============================] - 1s 4ms/step - loss: 0.0084 - accuracy: 0.9989 - tp: 100.0000 - tn: 159920.0000 - fp: 26.0000 - fn: 157.0000 - precision: 0.7937 - recall: 0.3891 - auc: 0.8620 - val_loss: 0.1020 - val_accuracy: 0.9982 - val_tp: 30.0000 - val_tn: 53276.0000 - val_fp: 21.0000 - val_fn: 75.0000 - val_precision: 0.5882 - val_recall: 0.2857 - val_auc: 0.7225\n",
            "Epoch 7/50\n",
            "161/161 [==============================] - 1s 4ms/step - loss: 0.0072 - accuracy: 0.9989 - tp: 110.0000 - tn: 159919.0000 - fp: 27.0000 - fn: 147.0000 - precision: 0.8029 - recall: 0.4280 - auc: 0.8855 - val_loss: 0.0936 - val_accuracy: 0.9982 - val_tp: 34.0000 - val_tn: 53270.0000 - val_fp: 27.0000 - val_fn: 71.0000 - val_precision: 0.5574 - val_recall: 0.3238 - val_auc: 0.7376\n",
            "Epoch 8/50\n",
            "161/161 [==============================] - 1s 4ms/step - loss: 0.0065 - accuracy: 0.9989 - tp: 110.0000 - tn: 159920.0000 - fp: 26.0000 - fn: 147.0000 - precision: 0.8088 - recall: 0.4280 - auc: 0.8967 - val_loss: 0.0854 - val_accuracy: 0.9982 - val_tp: 37.0000 - val_tn: 53268.0000 - val_fp: 29.0000 - val_fn: 68.0000 - val_precision: 0.5606 - val_recall: 0.3524 - val_auc: 0.7659\n",
            "Epoch 9/50\n",
            "161/161 [==============================] - 1s 4ms/step - loss: 0.0059 - accuracy: 0.9990 - tp: 117.0000 - tn: 159918.0000 - fp: 28.0000 - fn: 140.0000 - precision: 0.8069 - recall: 0.4553 - auc: 0.9053 - val_loss: 0.0770 - val_accuracy: 0.9982 - val_tp: 41.0000 - val_tn: 53265.0000 - val_fp: 32.0000 - val_fn: 64.0000 - val_precision: 0.5616 - val_recall: 0.3905 - val_auc: 0.7759\n",
            "Epoch 10/50\n",
            "161/161 [==============================] - 1s 4ms/step - loss: 0.0056 - accuracy: 0.9990 - tp: 123.0000 - tn: 159919.0000 - fp: 27.0000 - fn: 134.0000 - precision: 0.8200 - recall: 0.4786 - auc: 0.9050 - val_loss: 0.0687 - val_accuracy: 0.9983 - val_tp: 45.0000 - val_tn: 53265.0000 - val_fp: 32.0000 - val_fn: 60.0000 - val_precision: 0.5844 - val_recall: 0.4286 - val_auc: 0.7750\n",
            "Epoch 11/50\n",
            "161/161 [==============================] - 1s 3ms/step - loss: 0.0053 - accuracy: 0.9990 - tp: 130.0000 - tn: 159919.0000 - fp: 27.0000 - fn: 127.0000 - precision: 0.8280 - recall: 0.5058 - auc: 0.9021 - val_loss: 0.0629 - val_accuracy: 0.9981 - val_tp: 46.0000 - val_tn: 53256.0000 - val_fp: 41.0000 - val_fn: 59.0000 - val_precision: 0.5287 - val_recall: 0.4381 - val_auc: 0.7932\n",
            "Epoch 12/50\n",
            "161/161 [==============================] - 1s 3ms/step - loss: 0.0051 - accuracy: 0.9991 - tp: 136.0000 - tn: 159918.0000 - fp: 28.0000 - fn: 121.0000 - precision: 0.8293 - recall: 0.5292 - auc: 0.9026 - val_loss: 0.0577 - val_accuracy: 0.9980 - val_tp: 50.0000 - val_tn: 53245.0000 - val_fp: 52.0000 - val_fn: 55.0000 - val_precision: 0.4902 - val_recall: 0.4762 - val_auc: 0.8025\n",
            "Epoch 13/50\n",
            "161/161 [==============================] - 1s 4ms/step - loss: 0.0049 - accuracy: 0.9991 - tp: 140.0000 - tn: 159917.0000 - fp: 29.0000 - fn: 117.0000 - precision: 0.8284 - recall: 0.5447 - auc: 0.9068 - val_loss: 0.0531 - val_accuracy: 0.9978 - val_tp: 54.0000 - val_tn: 53230.0000 - val_fp: 67.0000 - val_fn: 51.0000 - val_precision: 0.4463 - val_recall: 0.5143 - val_auc: 0.8069\n",
            "Epoch 14/50\n",
            "161/161 [==============================] - 0s 3ms/step - loss: 0.0048 - accuracy: 0.9991 - tp: 141.0000 - tn: 159920.0000 - fp: 26.0000 - fn: 116.0000 - precision: 0.8443 - recall: 0.5486 - auc: 0.9130 - val_loss: 0.0542 - val_accuracy: 0.9978 - val_tp: 57.0000 - val_tn: 53228.0000 - val_fp: 69.0000 - val_fn: 48.0000 - val_precision: 0.4524 - val_recall: 0.5429 - val_auc: 0.8167\n",
            "Epoch 15/50\n",
            "161/161 [==============================] - 1s 4ms/step - loss: 0.0046 - accuracy: 0.9992 - tp: 149.0000 - tn: 159920.0000 - fp: 26.0000 - fn: 108.0000 - precision: 0.8514 - recall: 0.5798 - auc: 0.9133 - val_loss: 0.0485 - val_accuracy: 0.9973 - val_tp: 57.0000 - val_tn: 53201.0000 - val_fp: 96.0000 - val_fn: 48.0000 - val_precision: 0.3725 - val_recall: 0.5429 - val_auc: 0.8302\n",
            "Epoch 16/50\n",
            "161/161 [==============================] - 1s 3ms/step - loss: 0.0045 - accuracy: 0.9992 - tp: 149.0000 - tn: 159920.0000 - fp: 26.0000 - fn: 108.0000 - precision: 0.8514 - recall: 0.5798 - auc: 0.9096 - val_loss: 0.0465 - val_accuracy: 0.9971 - val_tp: 59.0000 - val_tn: 53186.0000 - val_fp: 111.0000 - val_fn: 46.0000 - val_precision: 0.3471 - val_recall: 0.5619 - val_auc: 0.8354\n",
            "Epoch 17/50\n",
            "161/161 [==============================] - 1s 4ms/step - loss: 0.0044 - accuracy: 0.9992 - tp: 152.0000 - tn: 159919.0000 - fp: 27.0000 - fn: 105.0000 - precision: 0.8492 - recall: 0.5914 - auc: 0.9099 - val_loss: 0.0449 - val_accuracy: 0.9969 - val_tp: 59.0000 - val_tn: 53178.0000 - val_fp: 119.0000 - val_fn: 46.0000 - val_precision: 0.3315 - val_recall: 0.5619 - val_auc: 0.8403\n",
            "Epoch 18/50\n",
            "161/161 [==============================] - 1s 4ms/step - loss: 0.0043 - accuracy: 0.9992 - tp: 152.0000 - tn: 159918.0000 - fp: 28.0000 - fn: 105.0000 - precision: 0.8444 - recall: 0.5914 - auc: 0.9138 - val_loss: 0.0413 - val_accuracy: 0.9963 - val_tp: 62.0000 - val_tn: 53143.0000 - val_fp: 154.0000 - val_fn: 43.0000 - val_precision: 0.2870 - val_recall: 0.5905 - val_auc: 0.8393\n",
            "Epoch 19/50\n",
            "161/161 [==============================] - 1s 4ms/step - loss: 0.0042 - accuracy: 0.9992 - tp: 155.0000 - tn: 159919.0000 - fp: 27.0000 - fn: 102.0000 - precision: 0.8516 - recall: 0.6031 - auc: 0.9120 - val_loss: 0.0433 - val_accuracy: 0.9968 - val_tp: 59.0000 - val_tn: 53170.0000 - val_fp: 127.0000 - val_fn: 46.0000 - val_precision: 0.3172 - val_recall: 0.5619 - val_auc: 0.8409\n",
            "Epoch 20/50\n",
            "161/161 [==============================] - 1s 4ms/step - loss: 0.0042 - accuracy: 0.9992 - tp: 152.0000 - tn: 159920.0000 - fp: 26.0000 - fn: 105.0000 - precision: 0.8539 - recall: 0.5914 - auc: 0.9122 - val_loss: 0.0398 - val_accuracy: 0.9956 - val_tp: 64.0000 - val_tn: 53102.0000 - val_fp: 195.0000 - val_fn: 41.0000 - val_precision: 0.2471 - val_recall: 0.6095 - val_auc: 0.8529\n",
            "Epoch 21/50\n",
            "161/161 [==============================] - 1s 4ms/step - loss: 0.0041 - accuracy: 0.9992 - tp: 156.0000 - tn: 159920.0000 - fp: 26.0000 - fn: 101.0000 - precision: 0.8571 - recall: 0.6070 - auc: 0.9142 - val_loss: 0.0394 - val_accuracy: 0.9952 - val_tp: 64.0000 - val_tn: 53081.0000 - val_fp: 216.0000 - val_fn: 41.0000 - val_precision: 0.2286 - val_recall: 0.6095 - val_auc: 0.8534\n",
            "Epoch 22/50\n",
            "161/161 [==============================] - 1s 4ms/step - loss: 0.0041 - accuracy: 0.9992 - tp: 160.0000 - tn: 159920.0000 - fp: 26.0000 - fn: 97.0000 - precision: 0.8602 - recall: 0.6226 - auc: 0.9143 - val_loss: 0.0382 - val_accuracy: 0.9951 - val_tp: 64.0000 - val_tn: 53077.0000 - val_fp: 220.0000 - val_fn: 41.0000 - val_precision: 0.2254 - val_recall: 0.6095 - val_auc: 0.8532\n",
            "Epoch 23/50\n",
            "161/161 [==============================] - 1s 4ms/step - loss: 0.0040 - accuracy: 0.9992 - tp: 154.0000 - tn: 159924.0000 - fp: 22.0000 - fn: 103.0000 - precision: 0.8750 - recall: 0.5992 - auc: 0.9143 - val_loss: 0.0386 - val_accuracy: 0.9943 - val_tp: 66.0000 - val_tn: 53031.0000 - val_fp: 266.0000 - val_fn: 39.0000 - val_precision: 0.1988 - val_recall: 0.6286 - val_auc: 0.8574\n",
            "Epoch 24/50\n",
            "161/161 [==============================] - 1s 4ms/step - loss: 0.0040 - accuracy: 0.9992 - tp: 158.0000 - tn: 159922.0000 - fp: 24.0000 - fn: 99.0000 - precision: 0.8681 - recall: 0.6148 - auc: 0.9163 - val_loss: 0.0390 - val_accuracy: 0.9943 - val_tp: 66.0000 - val_tn: 53034.0000 - val_fp: 263.0000 - val_fn: 39.0000 - val_precision: 0.2006 - val_recall: 0.6286 - val_auc: 0.8578\n",
            "Epoch 25/50\n",
            "161/161 [==============================] - 1s 4ms/step - loss: 0.0039 - accuracy: 0.9992 - tp: 159.0000 - tn: 159921.0000 - fp: 25.0000 - fn: 98.0000 - precision: 0.8641 - recall: 0.6187 - auc: 0.9183 - val_loss: 0.0392 - val_accuracy: 0.9948 - val_tp: 64.0000 - val_tn: 53061.0000 - val_fp: 236.0000 - val_fn: 41.0000 - val_precision: 0.2133 - val_recall: 0.6095 - val_auc: 0.8540\n",
            "Epoch 26/50\n",
            "161/161 [==============================] - 1s 4ms/step - loss: 0.0039 - accuracy: 0.9992 - tp: 157.0000 - tn: 159924.0000 - fp: 22.0000 - fn: 100.0000 - precision: 0.8771 - recall: 0.6109 - auc: 0.9184 - val_loss: 0.0396 - val_accuracy: 0.9936 - val_tp: 66.0000 - val_tn: 52993.0000 - val_fp: 304.0000 - val_fn: 39.0000 - val_precision: 0.1784 - val_recall: 0.6286 - val_auc: 0.8573\n",
            "Epoch 27/50\n",
            "161/161 [==============================] - 1s 4ms/step - loss: 0.0038 - accuracy: 0.9992 - tp: 160.0000 - tn: 159921.0000 - fp: 25.0000 - fn: 97.0000 - precision: 0.8649 - recall: 0.6226 - auc: 0.9202 - val_loss: 0.0383 - val_accuracy: 0.9939 - val_tp: 66.0000 - val_tn: 53009.0000 - val_fp: 288.0000 - val_fn: 39.0000 - val_precision: 0.1864 - val_recall: 0.6286 - val_auc: 0.8531\n",
            "Epoch 28/50\n",
            "161/161 [==============================] - 1s 4ms/step - loss: 0.0038 - accuracy: 0.9993 - tp: 158.0000 - tn: 159925.0000 - fp: 21.0000 - fn: 99.0000 - precision: 0.8827 - recall: 0.6148 - auc: 0.9223 - val_loss: 0.0399 - val_accuracy: 0.9922 - val_tp: 68.0000 - val_tn: 52920.0000 - val_fp: 377.0000 - val_fn: 37.0000 - val_precision: 0.1528 - val_recall: 0.6476 - val_auc: 0.8658\n",
            "Epoch 29/50\n",
            "161/161 [==============================] - 1s 4ms/step - loss: 0.0038 - accuracy: 0.9993 - tp: 162.0000 - tn: 159923.0000 - fp: 23.0000 - fn: 95.0000 - precision: 0.8757 - recall: 0.6304 - auc: 0.9223 - val_loss: 0.0396 - val_accuracy: 0.9917 - val_tp: 69.0000 - val_tn: 52888.0000 - val_fp: 409.0000 - val_fn: 36.0000 - val_precision: 0.1444 - val_recall: 0.6571 - val_auc: 0.8697\n",
            "Epoch 30/50\n",
            "161/161 [==============================] - 1s 4ms/step - loss: 0.0037 - accuracy: 0.9993 - tp: 162.0000 - tn: 159923.0000 - fp: 23.0000 - fn: 95.0000 - precision: 0.8757 - recall: 0.6304 - auc: 0.9206 - val_loss: 0.0402 - val_accuracy: 0.9910 - val_tp: 69.0000 - val_tn: 52850.0000 - val_fp: 447.0000 - val_fn: 36.0000 - val_precision: 0.1337 - val_recall: 0.6571 - val_auc: 0.8690\n",
            "Epoch 31/50\n",
            "161/161 [==============================] - 1s 4ms/step - loss: 0.0037 - accuracy: 0.9993 - tp: 161.0000 - tn: 159924.0000 - fp: 22.0000 - fn: 96.0000 - precision: 0.8798 - recall: 0.6265 - auc: 0.9262 - val_loss: 0.0416 - val_accuracy: 0.9900 - val_tp: 69.0000 - val_tn: 52798.0000 - val_fp: 499.0000 - val_fn: 36.0000 - val_precision: 0.1215 - val_recall: 0.6571 - val_auc: 0.8673\n",
            "Epoch 32/50\n",
            "161/161 [==============================] - 1s 4ms/step - loss: 0.0037 - accuracy: 0.9993 - tp: 164.0000 - tn: 159923.0000 - fp: 23.0000 - fn: 93.0000 - precision: 0.8770 - recall: 0.6381 - auc: 0.9225 - val_loss: 0.0462 - val_accuracy: 0.9882 - val_tp: 70.0000 - val_tn: 52704.0000 - val_fp: 593.0000 - val_fn: 35.0000 - val_precision: 0.1056 - val_recall: 0.6667 - val_auc: 0.8783\n",
            "Epoch 33/50\n",
            "161/161 [==============================] - 1s 4ms/step - loss: 0.0036 - accuracy: 0.9993 - tp: 161.0000 - tn: 159923.0000 - fp: 23.0000 - fn: 96.0000 - precision: 0.8750 - recall: 0.6265 - auc: 0.9284 - val_loss: 0.0485 - val_accuracy: 0.9874 - val_tp: 71.0000 - val_tn: 52659.0000 - val_fp: 638.0000 - val_fn: 34.0000 - val_precision: 0.1001 - val_recall: 0.6762 - val_auc: 0.8780\n",
            "Epoch 34/50\n",
            "161/161 [==============================] - 1s 4ms/step - loss: 0.0036 - accuracy: 0.9993 - tp: 166.0000 - tn: 159922.0000 - fp: 24.0000 - fn: 91.0000 - precision: 0.8737 - recall: 0.6459 - auc: 0.9321 - val_loss: 0.0476 - val_accuracy: 0.9880 - val_tp: 70.0000 - val_tn: 52691.0000 - val_fp: 606.0000 - val_fn: 35.0000 - val_precision: 0.1036 - val_recall: 0.6667 - val_auc: 0.8782\n",
            "Epoch 35/50\n",
            "161/161 [==============================] - 1s 4ms/step - loss: 0.0036 - accuracy: 0.9993 - tp: 160.0000 - tn: 159924.0000 - fp: 22.0000 - fn: 97.0000 - precision: 0.8791 - recall: 0.6226 - auc: 0.9247 - val_loss: 0.0881 - val_accuracy: 0.9752 - val_tp: 82.0000 - val_tn: 51998.0000 - val_fp: 1299.0000 - val_fn: 23.0000 - val_precision: 0.0594 - val_recall: 0.7810 - val_auc: 0.9191\n",
            "Epoch 36/50\n",
            "161/161 [==============================] - 1s 4ms/step - loss: 0.0036 - accuracy: 0.9993 - tp: 166.0000 - tn: 159924.0000 - fp: 22.0000 - fn: 91.0000 - precision: 0.8830 - recall: 0.6459 - auc: 0.9361 - val_loss: 0.0591 - val_accuracy: 0.9841 - val_tp: 72.0000 - val_tn: 52482.0000 - val_fp: 815.0000 - val_fn: 33.0000 - val_precision: 0.0812 - val_recall: 0.6857 - val_auc: 0.8775\n",
            "Epoch 37/50\n",
            "161/161 [==============================] - 1s 4ms/step - loss: 0.0035 - accuracy: 0.9993 - tp: 165.0000 - tn: 159923.0000 - fp: 23.0000 - fn: 92.0000 - precision: 0.8777 - recall: 0.6420 - auc: 0.9324 - val_loss: 0.0689 - val_accuracy: 0.9807 - val_tp: 75.0000 - val_tn: 52294.0000 - val_fp: 1003.0000 - val_fn: 30.0000 - val_precision: 0.0696 - val_recall: 0.7143 - val_auc: 0.8975\n",
            "Epoch 38/50\n",
            "161/161 [==============================] - 1s 4ms/step - loss: 0.0035 - accuracy: 0.9993 - tp: 164.0000 - tn: 159922.0000 - fp: 24.0000 - fn: 93.0000 - precision: 0.8723 - recall: 0.6381 - auc: 0.9362 - val_loss: 0.0528 - val_accuracy: 0.9867 - val_tp: 71.0000 - val_tn: 52621.0000 - val_fp: 676.0000 - val_fn: 34.0000 - val_precision: 0.0950 - val_recall: 0.6762 - val_auc: 0.8717\n",
            "Epoch 39/50\n",
            "161/161 [==============================] - 1s 4ms/step - loss: 0.0035 - accuracy: 0.9993 - tp: 167.0000 - tn: 159924.0000 - fp: 22.0000 - fn: 90.0000 - precision: 0.8836 - recall: 0.6498 - auc: 0.9343 - val_loss: 0.0629 - val_accuracy: 0.9826 - val_tp: 74.0000 - val_tn: 52397.0000 - val_fp: 900.0000 - val_fn: 31.0000 - val_precision: 0.0760 - val_recall: 0.7048 - val_auc: 0.8759\n",
            "Epoch 40/50\n",
            "161/161 [==============================] - 1s 4ms/step - loss: 0.0035 - accuracy: 0.9993 - tp: 167.0000 - tn: 159922.0000 - fp: 24.0000 - fn: 90.0000 - precision: 0.8743 - recall: 0.6498 - auc: 0.9363 - val_loss: 0.0591 - val_accuracy: 0.9840 - val_tp: 72.0000 - val_tn: 52476.0000 - val_fp: 821.0000 - val_fn: 33.0000 - val_precision: 0.0806 - val_recall: 0.6857 - val_auc: 0.8778\n",
            "Epoch 41/50\n",
            "161/161 [==============================] - 1s 4ms/step - loss: 0.0035 - accuracy: 0.9993 - tp: 167.0000 - tn: 159924.0000 - fp: 22.0000 - fn: 90.0000 - precision: 0.8836 - recall: 0.6498 - auc: 0.9343 - val_loss: 0.0813 - val_accuracy: 0.9776 - val_tp: 80.0000 - val_tn: 52125.0000 - val_fp: 1172.0000 - val_fn: 25.0000 - val_precision: 0.0639 - val_recall: 0.7619 - val_auc: 0.9144\n",
            "Epoch 42/50\n",
            "161/161 [==============================] - 1s 4ms/step - loss: 0.0035 - accuracy: 0.9993 - tp: 166.0000 - tn: 159923.0000 - fp: 23.0000 - fn: 91.0000 - precision: 0.8783 - recall: 0.6459 - auc: 0.9344 - val_loss: 0.0643 - val_accuracy: 0.9825 - val_tp: 74.0000 - val_tn: 52395.0000 - val_fp: 902.0000 - val_fn: 31.0000 - val_precision: 0.0758 - val_recall: 0.7048 - val_auc: 0.8879\n",
            "Epoch 43/50\n",
            "161/161 [==============================] - 1s 4ms/step - loss: 0.0035 - accuracy: 0.9993 - tp: 169.0000 - tn: 159922.0000 - fp: 24.0000 - fn: 88.0000 - precision: 0.8756 - recall: 0.6576 - auc: 0.9343 - val_loss: 0.0484 - val_accuracy: 0.9889 - val_tp: 72.0000 - val_tn: 52738.0000 - val_fp: 559.0000 - val_fn: 33.0000 - val_precision: 0.1141 - val_recall: 0.6857 - val_auc: 0.8663\n",
            "Epoch 44/50\n",
            "161/161 [==============================] - 1s 4ms/step - loss: 0.0035 - accuracy: 0.9993 - tp: 171.0000 - tn: 159923.0000 - fp: 23.0000 - fn: 86.0000 - precision: 0.8814 - recall: 0.6654 - auc: 0.9343 - val_loss: 0.0481 - val_accuracy: 0.9885 - val_tp: 71.0000 - val_tn: 52716.0000 - val_fp: 581.0000 - val_fn: 34.0000 - val_precision: 0.1089 - val_recall: 0.6762 - val_auc: 0.8745\n",
            "Epoch 45/50\n",
            "161/161 [==============================] - 1s 4ms/step - loss: 0.0034 - accuracy: 0.9993 - tp: 166.0000 - tn: 159925.0000 - fp: 21.0000 - fn: 91.0000 - precision: 0.8877 - recall: 0.6459 - auc: 0.9363 - val_loss: 0.0483 - val_accuracy: 0.9887 - val_tp: 71.0000 - val_tn: 52729.0000 - val_fp: 568.0000 - val_fn: 34.0000 - val_precision: 0.1111 - val_recall: 0.6762 - val_auc: 0.8746\n",
            "Epoch 46/50\n",
            "161/161 [==============================] - 1s 4ms/step - loss: 0.0034 - accuracy: 0.9993 - tp: 170.0000 - tn: 159923.0000 - fp: 23.0000 - fn: 87.0000 - precision: 0.8808 - recall: 0.6615 - auc: 0.9363 - val_loss: 0.0632 - val_accuracy: 0.9833 - val_tp: 74.0000 - val_tn: 52435.0000 - val_fp: 862.0000 - val_fn: 31.0000 - val_precision: 0.0791 - val_recall: 0.7048 - val_auc: 0.8770\n",
            "Epoch 47/50\n",
            "161/161 [==============================] - 1s 4ms/step - loss: 0.0034 - accuracy: 0.9993 - tp: 172.0000 - tn: 159923.0000 - fp: 23.0000 - fn: 85.0000 - precision: 0.8821 - recall: 0.6693 - auc: 0.9344 - val_loss: 0.0404 - val_accuracy: 0.9919 - val_tp: 69.0000 - val_tn: 52900.0000 - val_fp: 397.0000 - val_fn: 36.0000 - val_precision: 0.1481 - val_recall: 0.6571 - val_auc: 0.8700\n",
            "Epoch 48/50\n",
            "161/161 [==============================] - 1s 4ms/step - loss: 0.0034 - accuracy: 0.9993 - tp: 169.0000 - tn: 159926.0000 - fp: 20.0000 - fn: 88.0000 - precision: 0.8942 - recall: 0.6576 - auc: 0.9344 - val_loss: 0.0499 - val_accuracy: 0.9880 - val_tp: 73.0000 - val_tn: 52686.0000 - val_fp: 611.0000 - val_fn: 32.0000 - val_precision: 0.1067 - val_recall: 0.6952 - val_auc: 0.8738\n",
            "Epoch 49/50\n",
            "161/161 [==============================] - 1s 4ms/step - loss: 0.0034 - accuracy: 0.9993 - tp: 170.0000 - tn: 159923.0000 - fp: 23.0000 - fn: 87.0000 - precision: 0.8808 - recall: 0.6615 - auc: 0.9344 - val_loss: 0.0462 - val_accuracy: 0.9894 - val_tp: 71.0000 - val_tn: 52763.0000 - val_fp: 534.0000 - val_fn: 34.0000 - val_precision: 0.1174 - val_recall: 0.6762 - val_auc: 0.8748\n",
            "Epoch 50/50\n",
            "161/161 [==============================] - 1s 4ms/step - loss: 0.0034 - accuracy: 0.9993 - tp: 167.0000 - tn: 159924.0000 - fp: 22.0000 - fn: 90.0000 - precision: 0.8836 - recall: 0.6498 - auc: 0.9364 - val_loss: 0.0452 - val_accuracy: 0.9906 - val_tp: 72.0000 - val_tn: 52829.0000 - val_fp: 468.0000 - val_fn: 33.0000 - val_precision: 0.1333 - val_recall: 0.6857 - val_auc: 0.8728\n"
          ],
          "name": "stdout"
        }
      ]
    },
    {
      "cell_type": "markdown",
      "metadata": {
        "id": "a08OVeO-thED"
      },
      "source": [
        "### Model Performance"
      ]
    },
    {
      "cell_type": "markdown",
      "metadata": {
        "id": "zfDWuoquthEE"
      },
      "source": [
        "#### Checking Training History"
      ]
    },
    {
      "cell_type": "code",
      "metadata": {
        "colab": {
          "base_uri": "https://localhost:8080/",
          "height": 312
        },
        "id": "PHS-6kb0thEE",
        "outputId": "c4bbc816-f252-4df8-9cf0-6703e326c919"
      },
      "source": [
        "# Plotting loss\n",
        "loss_df = pd.DataFrame(\n",
        "    {\n",
        "        \"Epoch\": range(1, epochs + 1),\n",
        "        \"Train\": training_history.history[\"loss\"],\n",
        "        \"Val\": training_history.history[\"val_loss\"],\n",
        "    }\n",
        ")\n",
        "loss_df.set_index(\"Epoch\", inplace=True)\n",
        "loss_df.plot(title=\"Loss\")"
      ],
      "execution_count": 13,
      "outputs": [
        {
          "output_type": "execute_result",
          "data": {
            "text/plain": [
              "<matplotlib.axes._subplots.AxesSubplot at 0x7f1c6c0d8c10>"
            ]
          },
          "metadata": {},
          "execution_count": 13
        },
        {
          "output_type": "display_data",
          "data": {
            "image/png": "[encoded data removed]",
            "text/plain": [
              "<Figure size 432x288 with 1 Axes>"
            ]
          },
          "metadata": {
            "needs_background": "light"
          }
        }
      ]
    },
    {
      "cell_type": "code",
      "metadata": {
        "colab": {
          "base_uri": "https://localhost:8080/",
          "height": 312
        },
        "id": "kvyqevJhthEF",
        "outputId": "4d275aa3-85b0-4ac6-dcd8-7ef156d4c264"
      },
      "source": [
        "# Plotting accuracy\n",
        "accuracy_df = pd.DataFrame(\n",
        "    {\n",
        "        \"Epoch\": range(1, epochs + 1),\n",
        "        \"Train\": training_history.history[\"accuracy\"],\n",
        "        \"Val\": training_history.history[\"val_accuracy\"],\n",
        "    }\n",
        ")\n",
        "accuracy_df.set_index(\"Epoch\", inplace=True)\n",
        "accuracy_df.plot(title=\"Accuracy\")"
      ],
      "execution_count": 14,
      "outputs": [
        {
          "output_type": "execute_result",
          "data": {
            "text/plain": [
              "<matplotlib.axes._subplots.AxesSubplot at 0x7f1c6fa6cc90>"
            ]
          },
          "metadata": {},
          "execution_count": 14
        },
        {
          "output_type": "display_data",
          "data": {
            "image/png": "[encoded data removed]",
            "text/plain": [
              "<Figure size 432x288 with 1 Axes>"
            ]
          },
          "metadata": {
            "needs_background": "light"
          }
        }
      ]
    },
    {
      "cell_type": "code",
      "metadata": {
        "colab": {
          "base_uri": "https://localhost:8080/",
          "height": 312
        },
        "id": "G0UBbKmvthEF",
        "outputId": "967f0e7d-27bf-44fe-eed3-24bed0d4dcb4"
      },
      "source": [
        "# Plotting AUC\n",
        "auc_df = pd.DataFrame(\n",
        "    {\n",
        "        \"Epoch\": range(1, epochs + 1),\n",
        "        \"Train\": training_history.history[\"auc\"],\n",
        "        \"Val\": training_history.history[\"val_auc\"],\n",
        "    }\n",
        ")\n",
        "auc_df.set_index(\"Epoch\", inplace=True)\n",
        "auc_df.plot(title=\"AUC\")"
      ],
      "execution_count": 15,
      "outputs": [
        {
          "output_type": "execute_result",
          "data": {
            "text/plain": [
              "<matplotlib.axes._subplots.AxesSubplot at 0x7f1c6f579050>"
            ]
          },
          "metadata": {},
          "execution_count": 15
        },
        {
          "output_type": "display_data",
          "data": {
            "image/png": "[encoded data removed]",
            "text/plain": [
              "<Figure size 432x288 with 1 Axes>"
            ]
          },
          "metadata": {
            "needs_background": "light"
          }
        }
      ]
    },
    {
      "cell_type": "markdown",
      "metadata": {
        "id": "OoegcOEpthEG"
      },
      "source": [
        "#### Plotting the ROC Curve"
      ]
    },
    {
      "cell_type": "code",
      "metadata": {
        "id": "QlWsQyDxthEG"
      },
      "source": [
        "# Import the roc_curve and auc metrics from sklearn\n",
        "from sklearn.metrics import roc_curve, auc"
      ],
      "execution_count": 16,
      "outputs": []
    },
    {
      "cell_type": "code",
      "metadata": {
        "id": "nAczXbrNthEG"
      },
      "source": [
        "# Making predictions to feed the roc_curve module\n",
        "train_predictions = model.predict(X_train, batch_size=1000)\n",
        "test_predictions = model.predict(X_test, batch_size=1000)"
      ],
      "execution_count": 17,
      "outputs": []
    },
    {
      "cell_type": "code",
      "metadata": {
        "id": "u4tpP2kzthEH"
      },
      "source": [
        "# Calculate the ROC curve and AUC for the training set\n",
        "fpr_train, tpr_train, thresholds_train = roc_curve(y_train, train_predictions)\n",
        "auc_train = auc(fpr_train, tpr_train)\n",
        "auc_train = round(auc_train, 4)\n",
        "\n",
        "# Calculate the ROC curve and AUC for the testing set\n",
        "fpr_test, tpr_test, thresholds_test = roc_curve(y_test, test_predictions)\n",
        "auc_test = auc(fpr_test, tpr_test)\n",
        "auc_test = round(auc_test, 4)"
      ],
      "execution_count": 18,
      "outputs": []
    },
    {
      "cell_type": "code",
      "metadata": {
        "id": "7lwtL0NYthEH"
      },
      "source": [
        "# Create a DataFrame with the fpr and tpr results\n",
        "roc_df_train = pd.DataFrame({\"FPR Train\": fpr_train, \"TPR Train\": tpr_train,})\n",
        "\n",
        "roc_df_test = pd.DataFrame({\"FPR Test\": fpr_test, \"TPR Test\": tpr_test,})"
      ],
      "execution_count": 19,
      "outputs": []
    },
    {
      "cell_type": "code",
      "metadata": {
        "colab": {
          "base_uri": "https://localhost:8080/",
          "height": 590
        },
        "id": "VNFc9Dw-thEI",
        "outputId": "98c9a13a-dfcd-48eb-839e-c0a59b3f094f"
      },
      "source": [
        "# Plotting the ROC Curves\n",
        "roc_df_train.plot(\n",
        "    x=\"FPR Train\",\n",
        "    y=\"TPR Train\",\n",
        "    xlim=([-0.05, 1.05]),\n",
        "    title=f\"Train ROC Curve (AUC={auc_train})\",\n",
        ")\n",
        "\n",
        "roc_df_test.plot(\n",
        "    x=\"FPR Test\",\n",
        "    y=\"TPR Test\",\n",
        "    color=\"red\",\n",
        "    style=\"--\",\n",
        "    xlim=([-0.05, 1.05]),\n",
        "    title=f\"Test ROC Curve (AUC={auc_test})\",\n",
        ")"
      ],
      "execution_count": 20,
      "outputs": [
        {
          "output_type": "execute_result",
          "data": {
            "text/plain": [
              "<matplotlib.axes._subplots.AxesSubplot at 0x7f1c6f46abd0>"
            ]
          },
          "metadata": {},
          "execution_count": 20
        },
        {
          "output_type": "display_data",
          "data": {
            "image/png": "[encoded data removed]",
            "text/plain": [
              "<Figure size 432x288 with 1 Axes>"
            ]
          },
          "metadata": {
            "needs_background": "light"
          }
        },
        {
          "output_type": "display_data",
          "data": {
            "image/png": "[encoded data removed]",
            "text/plain": [
              "<Figure size 432x288 with 1 Axes>"
            ]
          },
          "metadata": {
            "needs_background": "light"
          }
        }
      ]
    },
    {
      "cell_type": "markdown",
      "metadata": {
        "id": "YMD_8OJ7thEI"
      },
      "source": [
        "#### Evaluate the Model"
      ]
    },
    {
      "cell_type": "code",
      "metadata": {
        "colab": {
          "base_uri": "https://localhost:8080/",
          "height": 170
        },
        "id": "AjFcLdE9thEI",
        "outputId": "10b1154b-fe99-4896-d6b7-48233912e914"
      },
      "source": [
        "# Evaluate the model\n",
        "scores = model.evaluate(X_test, y_test, verbose=0)\n",
        "\n",
        "# Define metrics dictionary\n",
        "metrics = {k: v for k, v in zip(model.metrics_names, scores)}\n",
        "\n",
        "# Display evaluation metrics results\n",
        "display(metrics)"
      ],
      "execution_count": 21,
      "outputs": [
        {
          "output_type": "display_data",
          "data": {
            "text/plain": [
              "{'accuracy': 0.9902952313423157,\n",
              " 'auc': 0.8905400037765503,\n",
              " 'fn': 46.0,\n",
              " 'fp': 645.0,\n",
              " 'loss': 0.04800364375114441,\n",
              " 'precision': 0.11522633582353592,\n",
              " 'recall': 0.6461538672447205,\n",
              " 'tn': 70427.0,\n",
              " 'tp': 84.0}"
            ]
          },
          "metadata": {}
        }
      ]
    },
    {
      "cell_type": "markdown",
      "metadata": {
        "id": "Qv9Kbqm4thEJ"
      },
      "source": [
        "#### Confusion Matrix"
      ]
    },
    {
      "cell_type": "code",
      "metadata": {
        "colab": {
          "base_uri": "https://localhost:8080/",
          "height": 142
        },
        "id": "A36ZY9hbthEJ",
        "outputId": "5494af73-251e-4b7f-b26c-b51cb2d690d1"
      },
      "source": [
        "# Define the confusion matrix data\n",
        "cm_df = pd.DataFrame(\n",
        "    {\n",
        "        \"Positive (1)\": [f\"TP={metrics['tp']}\", f\"FP={metrics['fn']}\"],\n",
        "        \"Negative (0)\": [f\"FN={metrics['fp']}\", f\"TN={metrics['tn']}\"],\n",
        "    },\n",
        "    index=[\"Positive(1)\", \"Negative(0)\"],\n",
        ")\n",
        "cm_df.index.name = \"Actual\"\n",
        "cm_df.columns.name = \"Predicted\"\n",
        "\n",
        "# Show the confusion matrix\n",
        "cm_df"
      ],
      "execution_count": 22,
      "outputs": [
        {
          "output_type": "execute_result",
          "data": {
            "text/html": [
              "<div>\n",
              "<style scoped>\n",
              "    .dataframe tbody tr th:only-of-type {\n",
              "        vertical-align: middle;\n",
              "    }\n",
              "\n",
              "    .dataframe tbody tr th {\n",
              "        vertical-align: top;\n",
              "    }\n",
              "\n",
              "    .dataframe thead th {\n",
              "        text-align: right;\n",
              "    }\n",
              "</style>\n",
              "<table border=\"1\" class=\"dataframe\">\n",
              "  <thead>\n",
              "    <tr style=\"text-align: right;\">\n",
              "      <th>Predicted</th>\n",
              "      <th>Positive (1)</th>\n",
              "      <th>Negative (0)</th>\n",
              "    </tr>\n",
              "    <tr>\n",
              "      <th>Actual</th>\n",
              "      <th></th>\n",
              "      <th></th>\n",
              "    </tr>\n",
              "  </thead>\n",
              "  <tbody>\n",
              "    <tr>\n",
              "      <th>Positive(1)</th>\n",
              "      <td>TP=84.0</td>\n",
              "      <td>FN=645.0</td>\n",
              "    </tr>\n",
              "    <tr>\n",
              "      <th>Negative(0)</th>\n",
              "      <td>FP=46.0</td>\n",
              "      <td>TN=70427.0</td>\n",
              "    </tr>\n",
              "  </tbody>\n",
              "</table>\n",
              "</div>"
            ],
            "text/plain": [
              "Predicted   Positive (1) Negative (0)\n",
              "Actual                               \n",
              "Positive(1)      TP=84.0     FN=645.0\n",
              "Negative(0)      FP=46.0   TN=70427.0"
            ]
          },
          "metadata": {},
          "execution_count": 22
        }
      ]
    },
    {
      "cell_type": "markdown",
      "metadata": {
        "id": "guVjFvXhthEK"
      },
      "source": [
        "#### Classification Report"
      ]
    },
    {
      "cell_type": "code",
      "metadata": {
        "colab": {
          "base_uri": "https://localhost:8080/"
        },
        "id": "A71LENrxthEK",
        "outputId": "1e323ff3-e05d-47a1-e283-01143f8b90d7"
      },
      "source": [
        "# Import the classification_report method from sklearn\n",
        "from sklearn.metrics import classification_report\n",
        "\n",
        "# Predict classes using testing data\n",
        "y_predict_classes = (model.predict(X_test) > 0.5).astype(\"int32\")\n",
        "\n",
        "# Display classification report\n",
        "print(classification_report(y_predict_classes, y_test))"
      ],
      "execution_count": 23,
      "outputs": [
        {
          "output_type": "stream",
          "text": [
            "              precision    recall  f1-score   support\n",
            "\n",
            "           0       0.99      1.00      1.00     70473\n",
            "           1       0.65      0.12      0.20       729\n",
            "\n",
            "    accuracy                           0.99     71202\n",
            "   macro avg       0.82      0.56      0.60     71202\n",
            "weighted avg       0.99      0.99      0.99     71202\n",
            "\n"
          ],
          "name": "stdout"
        }
      ]
    }
  ]
}