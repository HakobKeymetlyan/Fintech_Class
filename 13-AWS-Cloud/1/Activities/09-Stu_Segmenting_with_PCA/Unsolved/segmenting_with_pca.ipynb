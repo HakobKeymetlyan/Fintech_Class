{
 "cells": [
  {
   "cell_type": "markdown",
   "metadata": {},
   "source": [
    "# Segmenting Customers Data with PCA\n",
    "\n",
    "One of the world's biggest banks launched a machine learning competition in Kaggle, an online community of data scientists and machine learning practitioners. They want to improve their marketing campaigns by identifying the optimal number of customer segments for their clients. They offer a reward of $5,000 that gained your interest, so you decided to put your unsupervised learning skills into practice to participate in the competition.\n",
    "\n",
    "The bank provided a dataset that consists of customer data that includes ten different features. The data columns were anonymized using generic names to protect customers' privacy, and data values were already normalized.\n",
    "\n",
    "The PCA technique for dimensional reduction has just come to your attention. At this point, you have already segmented the data based on all of the factors, but are wondering if PCA would alter the segmentation results.\n",
    "\n",
    "Using the starter code and the customer data provided, reduce the factors to only two dimensions using PCA, determine the optimal value for k using the PCA DataFrame, and then segment the data by using the K-Means algorithm and the optimal value for k. Once these steps are complete, segment the preprocessed customer DataFrame by using the K-means algorithm and that same value for k, and then compare the segmentation results."
   ]
  },
  {
   "cell_type": "code",
   "execution_count": 21,
   "metadata": {},
   "outputs": [],
   "source": [
    "# Import the modules\n",
    "import pandas as pd\n",
    "import hvplot.pandas\n",
    "from pathlib import Path\n",
    "from sklearn.cluster import KMeans"
   ]
  },
  {
   "cell_type": "markdown",
   "metadata": {},
   "source": [
    "## Read in the CSV file and prepare the Pandas DataFrame"
   ]
  },
  {
   "cell_type": "code",
   "execution_count": 50,
   "metadata": {},
   "outputs": [
    {
     "data": {
      "text/html": [
       "<div>\n",
       "<style scoped>\n",
       "    .dataframe tbody tr th:only-of-type {\n",
       "        vertical-align: middle;\n",
       "    }\n",
       "\n",
       "    .dataframe tbody tr th {\n",
       "        vertical-align: top;\n",
       "    }\n",
       "\n",
       "    .dataframe thead th {\n",
       "        text-align: right;\n",
       "    }\n",
       "</style>\n",
       "<table border=\"1\" class=\"dataframe\">\n",
       "  <thead>\n",
       "    <tr style=\"text-align: right;\">\n",
       "      <th></th>\n",
       "      <th>feature_1</th>\n",
       "      <th>feature_2</th>\n",
       "      <th>feature_3</th>\n",
       "      <th>feature_4</th>\n",
       "      <th>feature_5</th>\n",
       "      <th>feature_6</th>\n",
       "      <th>feature_7</th>\n",
       "      <th>feature_8</th>\n",
       "      <th>feature_9</th>\n",
       "      <th>feature_10</th>\n",
       "    </tr>\n",
       "  </thead>\n",
       "  <tbody>\n",
       "    <tr>\n",
       "      <th>0</th>\n",
       "      <td>1.148534</td>\n",
       "      <td>4.606077</td>\n",
       "      <td>2.699069</td>\n",
       "      <td>-2.661824</td>\n",
       "      <td>1.526433</td>\n",
       "      <td>1.236671</td>\n",
       "      <td>0.211421</td>\n",
       "      <td>1.482896</td>\n",
       "      <td>-4.445627</td>\n",
       "      <td>-1.936831</td>\n",
       "    </tr>\n",
       "    <tr>\n",
       "      <th>1</th>\n",
       "      <td>-1.149410</td>\n",
       "      <td>-1.650549</td>\n",
       "      <td>2.530167</td>\n",
       "      <td>-3.227088</td>\n",
       "      <td>0.572138</td>\n",
       "      <td>4.162600</td>\n",
       "      <td>-0.291679</td>\n",
       "      <td>-1.237575</td>\n",
       "      <td>3.604765</td>\n",
       "      <td>-1.635689</td>\n",
       "    </tr>\n",
       "    <tr>\n",
       "      <th>2</th>\n",
       "      <td>0.332427</td>\n",
       "      <td>-0.887985</td>\n",
       "      <td>-0.309216</td>\n",
       "      <td>0.399891</td>\n",
       "      <td>0.828492</td>\n",
       "      <td>3.641945</td>\n",
       "      <td>-0.916946</td>\n",
       "      <td>-1.978024</td>\n",
       "      <td>1.056772</td>\n",
       "      <td>-1.882747</td>\n",
       "    </tr>\n",
       "    <tr>\n",
       "      <th>3</th>\n",
       "      <td>2.245599</td>\n",
       "      <td>3.826309</td>\n",
       "      <td>0.264039</td>\n",
       "      <td>0.095471</td>\n",
       "      <td>1.984380</td>\n",
       "      <td>0.373991</td>\n",
       "      <td>-0.280279</td>\n",
       "      <td>1.602786</td>\n",
       "      <td>-5.993331</td>\n",
       "      <td>-2.258925</td>\n",
       "    </tr>\n",
       "    <tr>\n",
       "      <th>4</th>\n",
       "      <td>0.705503</td>\n",
       "      <td>-1.312329</td>\n",
       "      <td>0.895406</td>\n",
       "      <td>-0.405408</td>\n",
       "      <td>1.116187</td>\n",
       "      <td>3.699562</td>\n",
       "      <td>-1.427985</td>\n",
       "      <td>-1.494409</td>\n",
       "      <td>1.156908</td>\n",
       "      <td>-1.434964</td>\n",
       "    </tr>\n",
       "  </tbody>\n",
       "</table>\n",
       "</div>"
      ],
      "text/plain": [
       "   feature_1  feature_2  feature_3  feature_4  feature_5  feature_6  \\\n",
       "0   1.148534   4.606077   2.699069  -2.661824   1.526433   1.236671   \n",
       "1  -1.149410  -1.650549   2.530167  -3.227088   0.572138   4.162600   \n",
       "2   0.332427  -0.887985  -0.309216   0.399891   0.828492   3.641945   \n",
       "3   2.245599   3.826309   0.264039   0.095471   1.984380   0.373991   \n",
       "4   0.705503  -1.312329   0.895406  -0.405408   1.116187   3.699562   \n",
       "\n",
       "   feature_7  feature_8  feature_9  feature_10  \n",
       "0   0.211421   1.482896  -4.445627   -1.936831  \n",
       "1  -0.291679  -1.237575   3.604765   -1.635689  \n",
       "2  -0.916946  -1.978024   1.056772   -1.882747  \n",
       "3  -0.280279   1.602786  -5.993331   -2.258925  \n",
       "4  -1.427985  -1.494409   1.156908   -1.434964  "
      ]
     },
     "execution_count": 50,
     "metadata": {},
     "output_type": "execute_result"
    }
   ],
   "source": [
    "# Read the csv file into a pandas DataFrame\n",
    "customer_pca = pd.read_csv(\n",
    "    Path(\"../Resources/customers.csv\")\n",
    ")\n",
    "\n",
    "# Review the DataFrame\n",
    "customer_pca.head()"
   ]
  },
  {
   "cell_type": "markdown",
   "metadata": {},
   "source": [
    "## Part 1: Use PCA to reduce the dimensionality of the transformed customers DataFrame to 2 principal components"
   ]
  },
  {
   "cell_type": "markdown",
   "metadata": {},
   "source": [
    "### Step 1: Import the PCA module from SKLearn"
   ]
  },
  {
   "cell_type": "code",
   "execution_count": 23,
   "metadata": {},
   "outputs": [],
   "source": [
    "# Import the PCA module\n",
    "from sklearn.decomposition import PCA"
   ]
  },
  {
   "cell_type": "markdown",
   "metadata": {},
   "source": [
    "### Step 2: Instantiate the instace of the PCA model declaring the number of principal components as 2"
   ]
  },
  {
   "cell_type": "code",
   "execution_count": 24,
   "metadata": {},
   "outputs": [],
   "source": [
    "# Instantiate the PCA instance and declare the number of PCA variables\n",
    "pca = PCA(n_components=2)"
   ]
  },
  {
   "cell_type": "markdown",
   "metadata": {},
   "source": [
    "### Step 3: Using the `fit_transform` function from PCA, fit the PCA model to the `customers_transformed_df` DataFrame. Review the first 5 rows of list data."
   ]
  },
  {
   "cell_type": "code",
   "execution_count": 48,
   "metadata": {},
   "outputs": [
    {
     "data": {
      "text/plain": [
       "array([[-4.72382358, -0.60489964],\n",
       "       [ 5.85571568, -1.98331135],\n",
       "       [ 2.43063042, -3.15456594],\n",
       "       [-6.96050326, -1.35772617],\n",
       "       [ 2.47746793, -3.29412896]])"
      ]
     },
     "execution_count": 48,
     "metadata": {},
     "output_type": "execute_result"
    }
   ],
   "source": [
    "# Fit the PCA model on the transformed customers DataFrame\n",
    "customer_transformed_df = pca.fit_transform(customer_pca_df)\n",
    "\n",
    "# Review the first 5 rows of the array of list data\n",
    "customer_transformed_df[:5]"
   ]
  },
  {
   "cell_type": "markdown",
   "metadata": {},
   "source": [
    "### Step 4: Using the `explained_variance_ratio_` function from PCA, calculate the percentage of the total variance that is captured by the two PCA variables.  "
   ]
  },
  {
   "cell_type": "code",
   "execution_count": 49,
   "metadata": {},
   "outputs": [
    {
     "data": {
      "text/plain": [
       "array([0.55083554, 0.30256389])"
      ]
     },
     "execution_count": 49,
     "metadata": {},
     "output_type": "execute_result"
    }
   ],
   "source": [
    "# Calculate the PCA explained variance ratio\n",
    "pca.explained_variance_ratio_"
   ]
  },
  {
   "cell_type": "markdown",
   "metadata": {},
   "source": [
    "**Question:** What is the explained variance ratio captured by the two PCA variables?\n",
    "    \n",
    "**Answer:** YOUR ANSWER HERE"
   ]
  },
  {
   "cell_type": "markdown",
   "metadata": {},
   "source": [
    "### Step 5: Using the `customer_pca` data, create a Pandas DataFrame called `customers_pca_df`. The columns of the DataFrame should be called \"PCA1\" and \"PCA2\"."
   ]
  },
  {
   "cell_type": "code",
   "execution_count": 39,
   "metadata": {},
   "outputs": [
    {
     "data": {
      "text/html": [
       "<div>\n",
       "<style scoped>\n",
       "    .dataframe tbody tr th:only-of-type {\n",
       "        vertical-align: middle;\n",
       "    }\n",
       "\n",
       "    .dataframe tbody tr th {\n",
       "        vertical-align: top;\n",
       "    }\n",
       "\n",
       "    .dataframe thead th {\n",
       "        text-align: right;\n",
       "    }\n",
       "</style>\n",
       "<table border=\"1\" class=\"dataframe\">\n",
       "  <thead>\n",
       "    <tr style=\"text-align: right;\">\n",
       "      <th></th>\n",
       "      <th>PCA1</th>\n",
       "      <th>PCA2</th>\n",
       "    </tr>\n",
       "  </thead>\n",
       "  <tbody>\n",
       "    <tr>\n",
       "      <th>0</th>\n",
       "      <td>-4.712383</td>\n",
       "      <td>-0.675527</td>\n",
       "    </tr>\n",
       "    <tr>\n",
       "      <th>1</th>\n",
       "      <td>5.924676</td>\n",
       "      <td>-1.966166</td>\n",
       "    </tr>\n",
       "    <tr>\n",
       "      <th>2</th>\n",
       "      <td>2.521497</td>\n",
       "      <td>-3.195785</td>\n",
       "    </tr>\n",
       "    <tr>\n",
       "      <th>3</th>\n",
       "      <td>-6.934801</td>\n",
       "      <td>-1.466815</td>\n",
       "    </tr>\n",
       "    <tr>\n",
       "      <th>4</th>\n",
       "      <td>2.568987</td>\n",
       "      <td>-3.331562</td>\n",
       "    </tr>\n",
       "  </tbody>\n",
       "</table>\n",
       "</div>"
      ],
      "text/plain": [
       "       PCA1      PCA2\n",
       "0 -4.712383 -0.675527\n",
       "1  5.924676 -1.966166\n",
       "2  2.521497 -3.195785\n",
       "3 -6.934801 -1.466815\n",
       "4  2.568987 -3.331562"
      ]
     },
     "execution_count": 39,
     "metadata": {},
     "output_type": "execute_result"
    }
   ],
   "source": [
    "# Create the PCA DataFrame\n",
    "customer_pca_df = pd.DataFrame(\n",
    "    customer_,\n",
    "    columns=[\"PCA1\", \"PCA2\"]\n",
    ")\n",
    "\n",
    "# Review the PCA DataFrame\n",
    "customer_pca_df.head()"
   ]
  },
  {
   "cell_type": "markdown",
   "metadata": {},
   "source": [
    "## Part 2: Using the `customers_pca_df` Dataframe, utilize the elbow method to determine the optimal value of k."
   ]
  },
  {
   "cell_type": "code",
   "execution_count": 28,
   "metadata": {},
   "outputs": [],
   "source": [
    "# Create a a list to store inertia values and the values of k\n",
    "inertia = []\n",
    "k = list(range(1, 11))"
   ]
  },
  {
   "cell_type": "code",
   "execution_count": 40,
   "metadata": {},
   "outputs": [],
   "source": [
    "# Create a for-loop where each value of k is evaluated by using the K-means algorithm\n",
    "# Fit the model by using the service_ratings DataFrame\n",
    "# Append the value of the computed inertia from the `inertia_` attribute of the KMeans model instance\n",
    "for i in k:\n",
    "    k_model = KMeans(n_clusters=i, random_state=1)\n",
    "    k_model.fit(customer_pca_df)\n",
    "    inertia.append(k_model.inertia_)"
   ]
  },
  {
   "cell_type": "code",
   "execution_count": 30,
   "metadata": {},
   "outputs": [
    {
     "data": {
      "text/html": [
       "<div>\n",
       "<style scoped>\n",
       "    .dataframe tbody tr th:only-of-type {\n",
       "        vertical-align: middle;\n",
       "    }\n",
       "\n",
       "    .dataframe tbody tr th {\n",
       "        vertical-align: top;\n",
       "    }\n",
       "\n",
       "    .dataframe thead th {\n",
       "        text-align: right;\n",
       "    }\n",
       "</style>\n",
       "<table border=\"1\" class=\"dataframe\">\n",
       "  <thead>\n",
       "    <tr style=\"text-align: right;\">\n",
       "      <th></th>\n",
       "      <th>k</th>\n",
       "      <th>inertia</th>\n",
       "    </tr>\n",
       "  </thead>\n",
       "  <tbody>\n",
       "    <tr>\n",
       "      <th>0</th>\n",
       "      <td>1</td>\n",
       "      <td>49585.714978</td>\n",
       "    </tr>\n",
       "    <tr>\n",
       "      <th>1</th>\n",
       "      <td>2</td>\n",
       "      <td>23750.955470</td>\n",
       "    </tr>\n",
       "    <tr>\n",
       "      <th>2</th>\n",
       "      <td>3</td>\n",
       "      <td>8773.172935</td>\n",
       "    </tr>\n",
       "    <tr>\n",
       "      <th>3</th>\n",
       "      <td>4</td>\n",
       "      <td>6840.237425</td>\n",
       "    </tr>\n",
       "    <tr>\n",
       "      <th>4</th>\n",
       "      <td>5</td>\n",
       "      <td>5378.897735</td>\n",
       "    </tr>\n",
       "  </tbody>\n",
       "</table>\n",
       "</div>"
      ],
      "text/plain": [
       "   k       inertia\n",
       "0  1  49585.714978\n",
       "1  2  23750.955470\n",
       "2  3   8773.172935\n",
       "3  4   6840.237425\n",
       "4  5   5378.897735"
      ]
     },
     "execution_count": 30,
     "metadata": {},
     "output_type": "execute_result"
    }
   ],
   "source": [
    "# Define a DataFrame to hold the values for k and the corresponding inertia\n",
    "elbow_data = {\"k\": k, \"inertia\": inertia}\n",
    "\n",
    "# Create the DataFrame from the elbow data\n",
    "df_elbow = pd.DataFrame(elbow_data)\n",
    "\n",
    "# Review the DataFrame\n",
    "df_elbow.head()"
   ]
  },
  {
   "cell_type": "code",
   "execution_count": 31,
   "metadata": {},
   "outputs": [
    {
     "data": {},
     "metadata": {},
     "output_type": "display_data"
    },
    {
     "data": {
      "application/vnd.holoviews_exec.v0+json": "",
      "text/html": [
       "<div id='1428'>\n",
       "\n",
       "\n",
       "\n",
       "\n",
       "\n",
       "  <div class=\"bk-root\" id=\"b07ad693-8650-458e-8732-93f55f3f16fa\" data-root-id=\"1428\"></div>\n",
       "</div>\n",
       "<script type=\"application/javascript\">(function(root) {\n",
       "  function embed_document(root) {\n",
       "    var docs_json = {\"be6e91c7-44c0-489e-a43f-ffe58a141f25\":{\"defs\":[{\"extends\":null,\"module\":null,\"name\":\"ReactiveHTML1\",\"overrides\":[],\"properties\":[]},{\"extends\":null,\"module\":null,\"name\":\"FlexBox1\",\"overrides\":[],\"properties\":[{\"default\":\"flex-start\",\"kind\":null,\"name\":\"align_content\"},{\"default\":\"flex-start\",\"kind\":null,\"name\":\"align_items\"},{\"default\":\"row\",\"kind\":null,\"name\":\"flex_direction\"},{\"default\":\"wrap\",\"kind\":null,\"name\":\"flex_wrap\"},{\"default\":\"flex-start\",\"kind\":null,\"name\":\"justify_content\"}]},{\"extends\":null,\"module\":null,\"name\":\"GridStack1\",\"overrides\":[],\"properties\":[{\"default\":\"warn\",\"kind\":null,\"name\":\"mode\"},{\"default\":null,\"kind\":null,\"name\":\"ncols\"},{\"default\":null,\"kind\":null,\"name\":\"nrows\"},{\"default\":true,\"kind\":null,\"name\":\"allow_resize\"},{\"default\":true,\"kind\":null,\"name\":\"allow_drag\"},{\"default\":[],\"kind\":null,\"name\":\"state\"}]},{\"extends\":null,\"module\":null,\"name\":\"click1\",\"overrides\":[],\"properties\":[{\"default\":\"\",\"kind\":null,\"name\":\"terminal_output\"},{\"default\":\"\",\"kind\":null,\"name\":\"debug_name\"},{\"default\":0,\"kind\":null,\"name\":\"clears\"}]},{\"extends\":null,\"module\":null,\"name\":\"TemplateActions1\",\"overrides\":[],\"properties\":[{\"default\":0,\"kind\":null,\"name\":\"open_modal\"},{\"default\":0,\"kind\":null,\"name\":\"close_modal\"}]},{\"extends\":null,\"module\":null,\"name\":\"MaterialTemplateActions1\",\"overrides\":[],\"properties\":[{\"default\":0,\"kind\":null,\"name\":\"open_modal\"},{\"default\":0,\"kind\":null,\"name\":\"close_modal\"}]}],\"roots\":{\"references\":[{\"attributes\":{\"tools\":[{\"id\":\"1432\"},{\"id\":\"1450\"},{\"id\":\"1451\"},{\"id\":\"1452\"},{\"id\":\"1453\"},{\"id\":\"1454\"}]},\"id\":\"1456\",\"type\":\"Toolbar\"},{\"attributes\":{\"line_color\":\"#30a2da\",\"line_width\":2,\"x\":{\"field\":\"k\"},\"y\":{\"field\":\"inertia\"}},\"id\":\"1466\",\"type\":\"Line\"},{\"attributes\":{\"callback\":null,\"renderers\":[{\"id\":\"1469\"}],\"tags\":[\"hv_created\"],\"tooltips\":[[\"k\",\"@{k}\"],[\"inertia\",\"@{inertia}\"]]},\"id\":\"1432\",\"type\":\"HoverTool\"},{\"attributes\":{\"data\":{\"inertia\":{\"__ndarray__\":\"54Ua4TY26ECxvmwmvTHXQHNduSKWIsFATyzoxzy4ukBbkvPR5QK1QPcRG5bOy7FAkIhwwDu3rkDL0fWFAOeqQBFloITwAKhADP7GPlXvpUA=\",\"dtype\":\"float64\",\"order\":\"little\",\"shape\":[10]},\"k\":[1,2,3,4,5,6,7,8,9,10]},\"selected\":{\"id\":\"1464\"},\"selection_policy\":{\"id\":\"1487\"}},\"id\":\"1463\",\"type\":\"ColumnDataSource\"},{\"attributes\":{},\"id\":\"1452\",\"type\":\"WheelZoomTool\"},{\"attributes\":{\"line_alpha\":0.1,\"line_color\":\"#30a2da\",\"line_width\":2,\"x\":{\"field\":\"k\"},\"y\":{\"field\":\"inertia\"}},\"id\":\"1467\",\"type\":\"Line\"},{\"attributes\":{},\"id\":\"1454\",\"type\":\"ResetTool\"},{\"attributes\":{},\"id\":\"1450\",\"type\":\"SaveTool\"},{\"attributes\":{},\"id\":\"1487\",\"type\":\"UnionRenderers\"},{\"attributes\":{\"source\":{\"id\":\"1463\"}},\"id\":\"1470\",\"type\":\"CDSView\"},{\"attributes\":{\"bottom_units\":\"screen\",\"coordinates\":null,\"fill_alpha\":0.5,\"fill_color\":\"lightgrey\",\"group\":null,\"left_units\":\"screen\",\"level\":\"overlay\",\"line_alpha\":1.0,\"line_color\":\"black\",\"line_dash\":[4,4],\"line_width\":2,\"right_units\":\"screen\",\"syncable\":false,\"top_units\":\"screen\"},\"id\":\"1455\",\"type\":\"BoxAnnotation\"},{\"attributes\":{\"axis\":{\"id\":\"1446\"},\"coordinates\":null,\"dimension\":1,\"grid_line_color\":null,\"group\":null,\"ticker\":null},\"id\":\"1449\",\"type\":\"Grid\"},{\"attributes\":{},\"id\":\"1447\",\"type\":\"BasicTicker\"},{\"attributes\":{},\"id\":\"1451\",\"type\":\"PanTool\"},{\"attributes\":{\"line_alpha\":0.2,\"line_color\":\"#30a2da\",\"line_width\":2,\"x\":{\"field\":\"k\"},\"y\":{\"field\":\"inertia\"}},\"id\":\"1468\",\"type\":\"Line\"},{\"attributes\":{\"end\":10.0,\"reset_end\":10.0,\"reset_start\":1.0,\"start\":1.0,\"tags\":[[[\"k\",\"k\",null]]]},\"id\":\"1430\",\"type\":\"Range1d\"},{\"attributes\":{\"axis_label\":\"k\",\"coordinates\":null,\"formatter\":{\"id\":\"1474\"},\"group\":null,\"major_label_policy\":{\"id\":\"1475\"},\"ticker\":{\"id\":\"1472\"}},\"id\":\"1442\",\"type\":\"LinearAxis\"},{\"attributes\":{\"children\":[{\"id\":\"1429\"},{\"id\":\"1433\"},{\"id\":\"1499\"}],\"margin\":[0,0,0,0],\"name\":\"Row02449\",\"tags\":[\"embedded\"]},\"id\":\"1428\",\"type\":\"Row\"},{\"attributes\":{},\"id\":\"1464\",\"type\":\"Selection\"},{\"attributes\":{\"below\":[{\"id\":\"1442\"}],\"center\":[{\"id\":\"1445\"},{\"id\":\"1449\"}],\"height\":300,\"left\":[{\"id\":\"1446\"}],\"margin\":[5,5,5,5],\"min_border_bottom\":10,\"min_border_left\":10,\"min_border_right\":10,\"min_border_top\":10,\"renderers\":[{\"id\":\"1469\"}],\"sizing_mode\":\"fixed\",\"title\":{\"id\":\"1434\"},\"toolbar\":{\"id\":\"1456\"},\"width\":700,\"x_range\":{\"id\":\"1430\"},\"x_scale\":{\"id\":\"1438\"},\"y_range\":{\"id\":\"1431\"},\"y_scale\":{\"id\":\"1440\"}},\"id\":\"1433\",\"subtype\":\"Figure\",\"type\":\"Plot\"},{\"attributes\":{\"margin\":[5,5,5,5],\"name\":\"HSpacer02454\",\"sizing_mode\":\"stretch_width\"},\"id\":\"1499\",\"type\":\"Spacer\"},{\"attributes\":{\"line_color\":\"#30a2da\",\"line_width\":2,\"x\":{\"field\":\"k\"},\"y\":{\"field\":\"inertia\"}},\"id\":\"1471\",\"type\":\"Line\"},{\"attributes\":{},\"id\":\"1479\",\"type\":\"BasicTickFormatter\"},{\"attributes\":{\"coordinates\":null,\"group\":null,\"text\":\"Elbow Curve\",\"text_color\":\"black\",\"text_font_size\":\"12pt\"},\"id\":\"1434\",\"type\":\"Title\"},{\"attributes\":{},\"id\":\"1440\",\"type\":\"LinearScale\"},{\"attributes\":{\"coordinates\":null,\"data_source\":{\"id\":\"1463\"},\"glyph\":{\"id\":\"1466\"},\"group\":null,\"hover_glyph\":null,\"muted_glyph\":{\"id\":\"1468\"},\"nonselection_glyph\":{\"id\":\"1467\"},\"selection_glyph\":{\"id\":\"1471\"},\"view\":{\"id\":\"1470\"}},\"id\":\"1469\",\"type\":\"GlyphRenderer\"},{\"attributes\":{},\"id\":\"1438\",\"type\":\"LinearScale\"},{\"attributes\":{\"axis\":{\"id\":\"1442\"},\"coordinates\":null,\"grid_line_color\":null,\"group\":null,\"ticker\":null},\"id\":\"1445\",\"type\":\"Grid\"},{\"attributes\":{},\"id\":\"1474\",\"type\":\"BasicTickFormatter\"},{\"attributes\":{\"margin\":[5,5,5,5],\"name\":\"HSpacer02453\",\"sizing_mode\":\"stretch_width\"},\"id\":\"1429\",\"type\":\"Spacer\"},{\"attributes\":{\"axis_label\":\"inertia\",\"coordinates\":null,\"formatter\":{\"id\":\"1479\"},\"group\":null,\"major_label_policy\":{\"id\":\"1480\"},\"ticker\":{\"id\":\"1447\"}},\"id\":\"1446\",\"type\":\"LinearAxis\"},{\"attributes\":{},\"id\":\"1475\",\"type\":\"AllLabels\"},{\"attributes\":{},\"id\":\"1480\",\"type\":\"AllLabels\"},{\"attributes\":{\"ticks\":[1,2,3,4,5,6,7,8,9,10]},\"id\":\"1472\",\"type\":\"FixedTicker\"},{\"attributes\":{\"overlay\":{\"id\":\"1455\"}},\"id\":\"1453\",\"type\":\"BoxZoomTool\"},{\"attributes\":{\"end\":54263.51982685645,\"reset_end\":54263.51982685645,\"reset_start\":-1870.138353811064,\"start\":-1870.138353811064,\"tags\":[[[\"inertia\",\"inertia\",null]]]},\"id\":\"1431\",\"type\":\"Range1d\"}],\"root_ids\":[\"1428\"]},\"title\":\"Bokeh Application\",\"version\":\"2.4.1\"}};\n",
       "    var render_items = [{\"docid\":\"be6e91c7-44c0-489e-a43f-ffe58a141f25\",\"root_ids\":[\"1428\"],\"roots\":{\"1428\":\"b07ad693-8650-458e-8732-93f55f3f16fa\"}}];\n",
       "    root.Bokeh.embed.embed_items_notebook(docs_json, render_items);\n",
       "  }\n",
       "  if (root.Bokeh !== undefined && root.Bokeh.Panel !== undefined) {\n",
       "    embed_document(root);\n",
       "  } else {\n",
       "    var attempts = 0;\n",
       "    var timer = setInterval(function(root) {\n",
       "      if (root.Bokeh !== undefined && root.Bokeh.Panel !== undefined) {\n",
       "        clearInterval(timer);\n",
       "        embed_document(root);\n",
       "      } else if (document.readyState == \"complete\") {\n",
       "        attempts++;\n",
       "        if (attempts > 200) {\n",
       "          clearInterval(timer);\n",
       "          console.log(\"Bokeh: ERROR: Unable to run BokehJS code because BokehJS library is missing\");\n",
       "        }\n",
       "      }\n",
       "    }, 25, root)\n",
       "  }\n",
       "})(window);</script>"
      ],
      "text/plain": [
       ":Curve   [k]   (inertia)"
      ]
     },
     "execution_count": 31,
     "metadata": {
      "application/vnd.holoviews_exec.v0+json": {
       "id": "1428"
      }
     },
     "output_type": "execute_result"
    }
   ],
   "source": [
    "# Plot the DataFrame\n",
    "df_elbow.hvplot.line(\n",
    "    x=\"k\", \n",
    "    y=\"inertia\", \n",
    "    title=\"Elbow Curve\", \n",
    "    xticks=k\n",
    ")"
   ]
  },
  {
   "cell_type": "markdown",
   "metadata": {},
   "source": [
    "## Part 3: Segment the `customers_pca_df` DataFrame using the K-means algorithm."
   ]
  },
  {
   "cell_type": "code",
   "execution_count": 41,
   "metadata": {},
   "outputs": [],
   "source": [
    "# Define the model Kmeans model by using the optimal value of k for the number of clusters.\n",
    "model = KMeans(n_clusters=3, random_state=0)\n",
    "\n",
    "# Fit the model\n",
    "model.fit(customer_pca_df)\n",
    "\n",
    "# Make predictions\n",
    "k_3 = model.predict(customer_pca_df)\n",
    "\n",
    "# Create a copy of the customers_pca_df DataFrame\n",
    "customer_pca_predictions_df = customer_pca_df.copy()\n",
    "\n",
    "# Add a class column with the labels\n",
    "customer_pca_predictions_df[\"customer_segments\"] = k_3"
   ]
  },
  {
   "cell_type": "code",
   "execution_count": 42,
   "metadata": {},
   "outputs": [
    {
     "data": {},
     "metadata": {},
     "output_type": "display_data"
    },
    {
     "data": {
      "application/vnd.holoviews_exec.v0+json": "",
      "text/html": [
       "<div id='2162'>\n",
       "\n",
       "\n",
       "\n",
       "\n",
       "\n",
       "  <div class=\"bk-root\" id=\"e9675a20-96a0-4983-87da-5633c6c2e0ed\" data-root-id=\"2162\"></div>\n",
       "</div>\n",
       "<script type=\"application/javascript\">(function(root) {\n",
       "  function embed_document(root) {\n",
       "    var docs_json = {\"73f1f6b3-e21e-4d11-865d-bf07f9c0beff\":{\"defs\":[{\"extends\":null,\"module\":null,\"name\":\"ReactiveHTML1\",\"overrides\":[],\"properties\":[]},{\"extends\":null,\"module\":null,\"name\":\"FlexBox1\",\"overrides\":[],\"properties\":[{\"default\":\"flex-start\",\"kind\":null,\"name\":\"align_content\"},{\"default\":\"flex-start\",\"kind\":null,\"name\":\"align_items\"},{\"default\":\"row\",\"kind\":null,\"name\":\"flex_direction\"},{\"default\":\"wrap\",\"kind\":null,\"name\":\"flex_wrap\"},{\"default\":\"flex-start\",\"kind\":null,\"name\":\"justify_content\"}]},{\"extends\":null,\"module\":null,\"name\":\"GridStack1\",\"overrides\":[],\"properties\":[{\"default\":\"warn\",\"kind\":null,\"name\":\"mode\"},{\"default\":null,\"kind\":null,\"name\":\"ncols\"},{\"default\":null,\"kind\":null,\"name\":\"nrows\"},{\"default\":true,\"kind\":null,\"name\":\"allow_resize\"},{\"default\":true,\"kind\":null,\"name\":\"allow_drag\"},{\"default\":[],\"kind\":null,\"name\":\"state\"}]},{\"extends\":null,\"module\":null,\"name\":\"click1\",\"overrides\":[],\"properties\":[{\"default\":\"\",\"kind\":null,\"name\":\"terminal_output\"},{\"default\":\"\",\"kind\":null,\"name\":\"debug_name\"},{\"default\":0,\"kind\":null,\"name\":\"clears\"}]},{\"extends\":null,\"module\":null,\"name\":\"TemplateActions1\",\"overrides\":[],\"properties\":[{\"default\":0,\"kind\":null,\"name\":\"open_modal\"},{\"default\":0,\"kind\":null,\"name\":\"close_modal\"}]},{\"extends\":null,\"module\":null,\"name\":\"MaterialTemplateActions1\",\"overrides\":[],\"properties\":[{\"default\":0,\"kind\":null,\"name\":\"open_modal\"},{\"default\":0,\"kind\":null,\"name\":\"close_modal\"}]}],\"roots\":{\"references\":[{\"attributes\":{\"margin\":[5,5,5,5],\"name\":\"HSpacer03917\",\"sizing_mode\":\"stretch_width\"},\"id\":\"2163\",\"type\":\"Spacer\"},{\"attributes\":{\"coordinates\":null,\"data_source\":{\"id\":\"2226\"},\"glyph\":{\"id\":\"2229\"},\"group\":null,\"hover_glyph\":null,\"muted_glyph\":{\"id\":\"2231\"},\"nonselection_glyph\":{\"id\":\"2230\"},\"selection_glyph\":{\"id\":\"2247\"},\"view\":{\"id\":\"2233\"}},\"id\":\"2232\",\"type\":\"GlyphRenderer\"},{\"attributes\":{\"fill_color\":{\"value\":\"#fc4f30\"},\"hatch_color\":{\"value\":\"#fc4f30\"},\"line_color\":{\"value\":\"#fc4f30\"},\"size\":{\"value\":5.477225575051661},\"x\":{\"field\":\"PCA1\"},\"y\":{\"field\":\"PCA2\"}},\"id\":\"2229\",\"type\":\"Scatter\"},{\"attributes\":{},\"id\":\"2179\",\"type\":\"BasicTicker\"},{\"attributes\":{\"axis_label\":\"PCA1\",\"coordinates\":null,\"formatter\":{\"id\":\"2200\"},\"group\":null,\"major_label_policy\":{\"id\":\"2201\"},\"ticker\":{\"id\":\"2179\"}},\"id\":\"2178\",\"type\":\"LinearAxis\"},{\"attributes\":{\"fill_alpha\":{\"value\":0.1},\"fill_color\":{\"value\":\"#fc4f30\"},\"hatch_alpha\":{\"value\":0.1},\"hatch_color\":{\"value\":\"#fc4f30\"},\"line_alpha\":{\"value\":0.1},\"line_color\":{\"value\":\"#fc4f30\"},\"size\":{\"value\":5.477225575051661},\"x\":{\"field\":\"PCA1\"},\"y\":{\"field\":\"PCA2\"}},\"id\":\"2230\",\"type\":\"Scatter\"},{\"attributes\":{\"click_policy\":\"mute\",\"coordinates\":null,\"group\":null,\"items\":[{\"id\":\"2224\"},{\"id\":\"2246\"},{\"id\":\"2270\"}],\"location\":[0,0],\"title\":\"customer_segments\"},\"id\":\"2223\",\"type\":\"Legend\"},{\"attributes\":{\"fill_alpha\":{\"value\":0.2},\"fill_color\":{\"value\":\"#fc4f30\"},\"hatch_alpha\":{\"value\":0.2},\"hatch_color\":{\"value\":\"#fc4f30\"},\"line_alpha\":{\"value\":0.2},\"line_color\":{\"value\":\"#fc4f30\"},\"size\":{\"value\":5.477225575051661},\"x\":{\"field\":\"PCA1\"},\"y\":{\"field\":\"PCA2\"}},\"id\":\"2231\",\"type\":\"Scatter\"},{\"attributes\":{\"axis\":{\"id\":\"2178\"},\"coordinates\":null,\"grid_line_color\":null,\"group\":null,\"ticker\":null},\"id\":\"2181\",\"type\":\"Grid\"},{\"attributes\":{\"source\":{\"id\":\"2205\"}},\"id\":\"2212\",\"type\":\"CDSView\"},{\"attributes\":{},\"id\":\"2183\",\"type\":\"BasicTicker\"},{\"attributes\":{},\"id\":\"2203\",\"type\":\"BasicTickFormatter\"},{\"attributes\":{\"axis_label\":\"PCA2\",\"coordinates\":null,\"formatter\":{\"id\":\"2203\"},\"group\":null,\"major_label_policy\":{\"id\":\"2204\"},\"ticker\":{\"id\":\"2183\"}},\"id\":\"2182\",\"type\":\"LinearAxis\"},{\"attributes\":{\"children\":[{\"id\":\"2163\"},{\"id\":\"2169\"},{\"id\":\"2398\"}],\"margin\":[0,0,0,0],\"name\":\"Row03913\",\"tags\":[\"embedded\"]},\"id\":\"2162\",\"type\":\"Row\"},{\"attributes\":{\"callback\":null,\"renderers\":[{\"id\":\"2211\"},{\"id\":\"2232\"},{\"id\":\"2254\"}],\"tags\":[\"hv_created\"],\"tooltips\":[[\"customer_segments\",\"@{customer_segments}\"],[\"PCA1\",\"@{PCA1}\"],[\"PCA2\",\"@{PCA2}\"]]},\"id\":\"2166\",\"type\":\"HoverTool\"},{\"attributes\":{},\"id\":\"2220\",\"type\":\"UnionRenderers\"},{\"attributes\":{\"below\":[{\"id\":\"2178\"}],\"center\":[{\"id\":\"2181\"},{\"id\":\"2185\"}],\"height\":300,\"left\":[{\"id\":\"2182\"}],\"margin\":[5,5,5,5],\"min_border_bottom\":10,\"min_border_left\":10,\"min_border_right\":10,\"min_border_top\":10,\"renderers\":[{\"id\":\"2211\"},{\"id\":\"2232\"},{\"id\":\"2254\"}],\"right\":[{\"id\":\"2223\"}],\"sizing_mode\":\"fixed\",\"title\":{\"id\":\"2170\"},\"toolbar\":{\"id\":\"2192\"},\"width\":700,\"x_range\":{\"id\":\"2164\"},\"x_scale\":{\"id\":\"2174\"},\"y_range\":{\"id\":\"2165\"},\"y_scale\":{\"id\":\"2176\"}},\"id\":\"2169\",\"subtype\":\"Figure\",\"type\":\"Plot\"},{\"attributes\":{\"end\":16.144500664326916,\"reset_end\":16.144500664326916,\"reset_start\":-13.048077988251539,\"start\":-13.048077988251539,\"tags\":[[[\"PCA1\",\"PCA1\",null]]]},\"id\":\"2164\",\"type\":\"Range1d\"},{\"attributes\":{\"angle\":{\"value\":0.0},\"fill_alpha\":{\"value\":1.0},\"fill_color\":{\"value\":\"#fc4f30\"},\"hatch_alpha\":{\"value\":1.0},\"hatch_color\":{\"value\":\"#fc4f30\"},\"hatch_scale\":{\"value\":12.0},\"hatch_weight\":{\"value\":1.0},\"line_alpha\":{\"value\":1.0},\"line_cap\":{\"value\":\"butt\"},\"line_color\":{\"value\":\"#fc4f30\"},\"line_dash\":{\"value\":[]},\"line_dash_offset\":{\"value\":0},\"line_join\":{\"value\":\"bevel\"},\"line_width\":{\"value\":1},\"marker\":{\"value\":\"circle\"},\"size\":{\"value\":5.477225575051661},\"x\":{\"field\":\"PCA1\"},\"y\":{\"field\":\"PCA2\"}},\"id\":\"2247\",\"type\":\"Scatter\"},{\"attributes\":{},\"id\":\"2204\",\"type\":\"AllLabels\"},{\"attributes\":{\"end\":17.897611534039566,\"reset_end\":17.897611534039566,\"reset_start\":-9.759237211778602,\"start\":-9.759237211778602,\"tags\":[[[\"PCA2\",\"PCA2\",null]]]},\"id\":\"2165\",\"type\":\"Range1d\"},{\"attributes\":{\"coordinates\":null,\"data_source\":{\"id\":\"2205\"},\"glyph\":{\"id\":\"2208\"},\"group\":null,\"hover_glyph\":null,\"muted_glyph\":{\"id\":\"2210\"},\"nonselection_glyph\":{\"id\":\"2209\"},\"selection_glyph\":{\"id\":\"2225\"},\"view\":{\"id\":\"2212\"}},\"id\":\"2211\",\"type\":\"GlyphRenderer\"},{\"attributes\":{\"data\":{\"PCA1\":{\"__ndarray__\":\"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\",\"dtype\":\"float64\",\"order\":\"little\",\"shape\":[509]},\"PCA2\":{\"__ndarray__\":\"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\",\"dtype\":\"float64\",\"order\":\"little\",\"shape\":[509]},\"customer_segments\":[1,1,1,1,1,1,1,1,1,1,1,1,1,1,1,1,1,1,1,1,1,1,1,1,1,1,1,1,1,1,1,1,1,1,1,1,1,1,1,1,1,1,1,1,1,1,1,1,1,1,1,1,1,1,1,1,1,1,1,1,1,1,1,1,1,1,1,1,1,1,1,1,1,1,1,1,1,1,1,1,1,1,1,1,1,1,1,1,1,1,1,1,1,1,1,1,1,1,1,1,1,1,1,1,1,1,1,1,1,1,1,1,1,1,1,1,1,1,1,1,1,1,1,1,1,1,1,1,1,1,1,1,1,1,1,1,1,1,1,1,1,1,1,1,1,1,1,1,1,1,1,1,1,1,1,1,1,1,1,1,1,1,1,1,1,1,1,1,1,1,1,1,1,1,1,1,1,1,1,1,1,1,1,1,1,1,1,1,1,1,1,1,1,1,1,1,1,1,1,1,1,1,1,1,1,1,1,1,1,1,1,1,1,1,1,1,1,1,1,1,1,1,1,1,1,1,1,1,1,1,1,1,1,1,1,1,1,1,1,1,1,1,1,1,1,1,1,1,1,1,1,1,1,1,1,1,1,1,1,1,1,1,1,1,1,1,1,1,1,1,1,1,1,1,1,1,1,1,1,1,1,1,1,1,1,1,1,1,1,1,1,1,1,1,1,1,1,1,1,1,1,1,1,1,1,1,1,1,1,1,1,1,1,1,1,1,1,1,1,1,1,1,1,1,1,1,1,1,1,1,1,1,1,1,1,1,1,1,1,1,1,1,1,1,1,1,1,1,1,1,1,1,1,1,1,1,1,1,1,1,1,1,1,1,1,1,1,1,1,1,1,1,1,1,1,1,1,1,1,1,1,1,1,1,1,1,1,1,1,1,1,1,1,1,1,1,1,1,1,1,1,1,1,1,1,1,1,1,1,1,1,1,1,1,1,1,1,1,1,1,1,1,1,1,1,1,1,1,1,1,1,1,1,1,1,1,1,1,1,1,1,1,1,1,1,1,1,1,1,1,1,1,1,1,1,1,1,1,1,1,1,1,1,1,1,1,1,1,1,1,1,1,1,1,1,1,1,1,1,1,1,1,1,1,1,1,1,1,1,1,1,1,1,1,1,1,1,1,1,1,1,1,1,1,1,1,1,1,1]},\"selected\":{\"id\":\"2227\"},\"selection_policy\":{\"id\":\"2243\"}},\"id\":\"2226\",\"type\":\"ColumnDataSource\"},{\"attributes\":{\"margin\":[5,5,5,5],\"name\":\"HSpacer03918\",\"sizing_mode\":\"stretch_width\"},\"id\":\"2398\",\"type\":\"Spacer\"},{\"attributes\":{},\"id\":\"2174\",\"type\":\"LinearScale\"},{\"attributes\":{\"fill_alpha\":{\"value\":0.2},\"fill_color\":{\"value\":\"#30a2da\"},\"hatch_alpha\":{\"value\":0.2},\"hatch_color\":{\"value\":\"#30a2da\"},\"line_alpha\":{\"value\":0.2},\"line_color\":{\"value\":\"#30a2da\"},\"size\":{\"value\":5.477225575051661},\"x\":{\"field\":\"PCA1\"},\"y\":{\"field\":\"PCA2\"}},\"id\":\"2210\",\"type\":\"Scatter\"},{\"attributes\":{},\"id\":\"2201\",\"type\":\"AllLabels\"},{\"attributes\":{\"angle\":{\"value\":0.0},\"fill_alpha\":{\"value\":1.0},\"fill_color\":{\"value\":\"#30a2da\"},\"hatch_alpha\":{\"value\":1.0},\"hatch_color\":{\"value\":\"#30a2da\"},\"hatch_scale\":{\"value\":12.0},\"hatch_weight\":{\"value\":1.0},\"line_alpha\":{\"value\":1.0},\"line_cap\":{\"value\":\"butt\"},\"line_color\":{\"value\":\"#30a2da\"},\"line_dash\":{\"value\":[]},\"line_dash_offset\":{\"value\":0},\"line_join\":{\"value\":\"bevel\"},\"line_width\":{\"value\":1},\"marker\":{\"value\":\"circle\"},\"size\":{\"value\":5.477225575051661},\"x\":{\"field\":\"PCA1\"},\"y\":{\"field\":\"PCA2\"}},\"id\":\"2225\",\"type\":\"Scatter\"},{\"attributes\":{\"angle\":{\"value\":0.0},\"fill_alpha\":{\"value\":1.0},\"fill_color\":{\"value\":\"#e5ae38\"},\"hatch_alpha\":{\"value\":1.0},\"hatch_color\":{\"value\":\"#e5ae38\"},\"hatch_scale\":{\"value\":12.0},\"hatch_weight\":{\"value\":1.0},\"line_alpha\":{\"value\":1.0},\"line_cap\":{\"value\":\"butt\"},\"line_color\":{\"value\":\"#e5ae38\"},\"line_dash\":{\"value\":[]},\"line_dash_offset\":{\"value\":0},\"line_join\":{\"value\":\"bevel\"},\"line_width\":{\"value\":1},\"marker\":{\"value\":\"circle\"},\"size\":{\"value\":5.477225575051661},\"x\":{\"field\":\"PCA1\"},\"y\":{\"field\":\"PCA2\"}},\"id\":\"2271\",\"type\":\"Scatter\"},{\"attributes\":{},\"id\":\"2206\",\"type\":\"Selection\"},{\"attributes\":{\"fill_color\":{\"value\":\"#30a2da\"},\"hatch_color\":{\"value\":\"#30a2da\"},\"line_color\":{\"value\":\"#30a2da\"},\"size\":{\"value\":5.477225575051661},\"x\":{\"field\":\"PCA1\"},\"y\":{\"field\":\"PCA2\"}},\"id\":\"2208\",\"type\":\"Scatter\"},{\"attributes\":{\"source\":{\"id\":\"2248\"}},\"id\":\"2255\",\"type\":\"CDSView\"},{\"attributes\":{},\"id\":\"2249\",\"type\":\"Selection\"},{\"attributes\":{},\"id\":\"2267\",\"type\":\"UnionRenderers\"},{\"attributes\":{\"coordinates\":null,\"data_source\":{\"id\":\"2248\"},\"glyph\":{\"id\":\"2251\"},\"group\":null,\"hover_glyph\":null,\"muted_glyph\":{\"id\":\"2253\"},\"nonselection_glyph\":{\"id\":\"2252\"},\"selection_glyph\":{\"id\":\"2271\"},\"view\":{\"id\":\"2255\"}},\"id\":\"2254\",\"type\":\"GlyphRenderer\"},{\"attributes\":{},\"id\":\"2186\",\"type\":\"SaveTool\"},{\"attributes\":{\"label\":{\"value\":\"0\"},\"renderers\":[{\"id\":\"2211\"}]},\"id\":\"2224\",\"type\":\"LegendItem\"},{\"attributes\":{\"source\":{\"id\":\"2226\"}},\"id\":\"2233\",\"type\":\"CDSView\"},{\"attributes\":{\"fill_alpha\":{\"value\":0.1},\"fill_color\":{\"value\":\"#30a2da\"},\"hatch_alpha\":{\"value\":0.1},\"hatch_color\":{\"value\":\"#30a2da\"},\"line_alpha\":{\"value\":0.1},\"line_color\":{\"value\":\"#30a2da\"},\"size\":{\"value\":5.477225575051661},\"x\":{\"field\":\"PCA1\"},\"y\":{\"field\":\"PCA2\"}},\"id\":\"2209\",\"type\":\"Scatter\"},{\"attributes\":{},\"id\":\"2187\",\"type\":\"PanTool\"},{\"attributes\":{\"data\":{\"PCA1\":{\"__ndarray__\":\"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\",\"dtype\":\"float64\",\"order\":\"little\",\"shape\":[294]},\"PCA2\":{\"__ndarray__\":\"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\",\"dtype\":\"float64\",\"order\":\"little\",\"shape\":[294]},\"customer_segments\":[0,0,0,0,0,0,0,0,0,0,0,0,0,0,0,0,0,0,0,0,0,0,0,0,0,0,0,0,0,0,0,0,0,0,0,0,0,0,0,0,0,0,0,0,0,0,0,0,0,0,0,0,0,0,0,0,0,0,0,0,0,0,0,0,0,0,0,0,0,0,0,0,0,0,0,0,0,0,0,0,0,0,0,0,0,0,0,0,0,0,0,0,0,0,0,0,0,0,0,0,0,0,0,0,0,0,0,0,0,0,0,0,0,0,0,0,0,0,0,0,0,0,0,0,0,0,0,0,0,0,0,0,0,0,0,0,0,0,0,0,0,0,0,0,0,0,0,0,0,0,0,0,0,0,0,0,0,0,0,0,0,0,0,0,0,0,0,0,0,0,0,0,0,0,0,0,0,0,0,0,0,0,0,0,0,0,0,0,0,0,0,0,0,0,0,0,0,0,0,0,0,0,0,0,0,0,0,0,0,0,0,0,0,0,0,0,0,0,0,0,0,0,0,0,0,0,0,0,0,0,0,0,0,0,0,0,0,0,0,0,0,0,0,0,0,0,0,0,0,0,0,0,0,0,0,0,0,0,0,0,0,0,0,0,0,0,0,0,0,0,0,0,0,0,0,0,0,0,0,0,0,0,0,0,0,0,0,0,0,0,0,0,0,0]},\"selected\":{\"id\":\"2206\"},\"selection_policy\":{\"id\":\"2220\"}},\"id\":\"2205\",\"type\":\"ColumnDataSource\"},{\"attributes\":{},\"id\":\"2188\",\"type\":\"WheelZoomTool\"},{\"attributes\":{},\"id\":\"2200\",\"type\":\"BasicTickFormatter\"},{\"attributes\":{\"tools\":[{\"id\":\"2166\"},{\"id\":\"2186\"},{\"id\":\"2187\"},{\"id\":\"2188\"},{\"id\":\"2189\"},{\"id\":\"2190\"}]},\"id\":\"2192\",\"type\":\"Toolbar\"},{\"attributes\":{},\"id\":\"2176\",\"type\":\"LinearScale\"},{\"attributes\":{\"overlay\":{\"id\":\"2191\"}},\"id\":\"2189\",\"type\":\"BoxZoomTool\"},{\"attributes\":{},\"id\":\"2227\",\"type\":\"Selection\"},{\"attributes\":{},\"id\":\"2243\",\"type\":\"UnionRenderers\"},{\"attributes\":{\"fill_color\":{\"value\":\"#e5ae38\"},\"hatch_color\":{\"value\":\"#e5ae38\"},\"line_color\":{\"value\":\"#e5ae38\"},\"size\":{\"value\":5.477225575051661},\"x\":{\"field\":\"PCA1\"},\"y\":{\"field\":\"PCA2\"}},\"id\":\"2251\",\"type\":\"Scatter\"},{\"attributes\":{\"fill_alpha\":{\"value\":0.1},\"fill_color\":{\"value\":\"#e5ae38\"},\"hatch_alpha\":{\"value\":0.1},\"hatch_color\":{\"value\":\"#e5ae38\"},\"line_alpha\":{\"value\":0.1},\"line_color\":{\"value\":\"#e5ae38\"},\"size\":{\"value\":5.477225575051661},\"x\":{\"field\":\"PCA1\"},\"y\":{\"field\":\"PCA2\"}},\"id\":\"2252\",\"type\":\"Scatter\"},{\"attributes\":{\"axis\":{\"id\":\"2182\"},\"coordinates\":null,\"dimension\":1,\"grid_line_color\":null,\"group\":null,\"ticker\":null},\"id\":\"2185\",\"type\":\"Grid\"},{\"attributes\":{\"fill_alpha\":{\"value\":0.2},\"fill_color\":{\"value\":\"#e5ae38\"},\"hatch_alpha\":{\"value\":0.2},\"hatch_color\":{\"value\":\"#e5ae38\"},\"line_alpha\":{\"value\":0.2},\"line_color\":{\"value\":\"#e5ae38\"},\"size\":{\"value\":5.477225575051661},\"x\":{\"field\":\"PCA1\"},\"y\":{\"field\":\"PCA2\"}},\"id\":\"2253\",\"type\":\"Scatter\"},{\"attributes\":{},\"id\":\"2190\",\"type\":\"ResetTool\"},{\"attributes\":{\"label\":{\"value\":\"2\"},\"renderers\":[{\"id\":\"2254\"}]},\"id\":\"2270\",\"type\":\"LegendItem\"},{\"attributes\":{\"data\":{\"PCA1\":{\"__ndarray__\":\"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\",\"dtype\":\"float64\",\"order\":\"little\",\"shape\":[197]},\"PCA2\":{\"__ndarray__\":\"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\",\"dtype\":\"float64\",\"order\":\"little\",\"shape\":[197]},\"customer_segments\":[2,2,2,2,2,2,2,2,2,2,2,2,2,2,2,2,2,2,2,2,2,2,2,2,2,2,2,2,2,2,2,2,2,2,2,2,2,2,2,2,2,2,2,2,2,2,2,2,2,2,2,2,2,2,2,2,2,2,2,2,2,2,2,2,2,2,2,2,2,2,2,2,2,2,2,2,2,2,2,2,2,2,2,2,2,2,2,2,2,2,2,2,2,2,2,2,2,2,2,2,2,2,2,2,2,2,2,2,2,2,2,2,2,2,2,2,2,2,2,2,2,2,2,2,2,2,2,2,2,2,2,2,2,2,2,2,2,2,2,2,2,2,2,2,2,2,2,2,2,2,2,2,2,2,2,2,2,2,2,2,2,2,2,2,2,2,2,2,2,2,2,2,2,2,2,2,2,2,2,2,2,2,2,2,2,2,2,2,2,2,2,2,2,2,2,2,2]},\"selected\":{\"id\":\"2249\"},\"selection_policy\":{\"id\":\"2267\"}},\"id\":\"2248\",\"type\":\"ColumnDataSource\"},{\"attributes\":{\"label\":{\"value\":\"1\"},\"renderers\":[{\"id\":\"2232\"}]},\"id\":\"2246\",\"type\":\"LegendItem\"},{\"attributes\":{\"bottom_units\":\"screen\",\"coordinates\":null,\"fill_alpha\":0.5,\"fill_color\":\"lightgrey\",\"group\":null,\"left_units\":\"screen\",\"level\":\"overlay\",\"line_alpha\":1.0,\"line_color\":\"black\",\"line_dash\":[4,4],\"line_width\":2,\"right_units\":\"screen\",\"syncable\":false,\"top_units\":\"screen\"},\"id\":\"2191\",\"type\":\"BoxAnnotation\"},{\"attributes\":{\"coordinates\":null,\"group\":null,\"text_color\":\"black\",\"text_font_size\":\"12pt\"},\"id\":\"2170\",\"type\":\"Title\"}],\"root_ids\":[\"2162\"]},\"title\":\"Bokeh Application\",\"version\":\"2.4.1\"}};\n",
       "    var render_items = [{\"docid\":\"73f1f6b3-e21e-4d11-865d-bf07f9c0beff\",\"root_ids\":[\"2162\"],\"roots\":{\"2162\":\"e9675a20-96a0-4983-87da-5633c6c2e0ed\"}}];\n",
       "    root.Bokeh.embed.embed_items_notebook(docs_json, render_items);\n",
       "  }\n",
       "  if (root.Bokeh !== undefined && root.Bokeh.Panel !== undefined) {\n",
       "    embed_document(root);\n",
       "  } else {\n",
       "    var attempts = 0;\n",
       "    var timer = setInterval(function(root) {\n",
       "      if (root.Bokeh !== undefined && root.Bokeh.Panel !== undefined) {\n",
       "        clearInterval(timer);\n",
       "        embed_document(root);\n",
       "      } else if (document.readyState == \"complete\") {\n",
       "        attempts++;\n",
       "        if (attempts > 200) {\n",
       "          clearInterval(timer);\n",
       "          console.log(\"Bokeh: ERROR: Unable to run BokehJS code because BokehJS library is missing\");\n",
       "        }\n",
       "      }\n",
       "    }, 25, root)\n",
       "  }\n",
       "})(window);</script>"
      ],
      "text/plain": [
       ":NdOverlay   [customer_segments]\n",
       "   :Scatter   [PCA1]   (PCA2)"
      ]
     },
     "execution_count": 42,
     "metadata": {
      "application/vnd.holoviews_exec.v0+json": {
       "id": "2162"
      }
     },
     "output_type": "execute_result"
    }
   ],
   "source": [
    "# Plot the clusters\n",
    "customer_pca_predictions_df.hvplot.scatter(\n",
    "    x=\"PCA1\",\n",
    "    y=\"PCA2\",\n",
    "    by=\"customer_segments\"\n",
    ")"
   ]
  },
  {
   "cell_type": "markdown",
   "metadata": {},
   "source": [
    "## Part 4: Segment the `customers_transformed_df` DataFrame with all factors using the K-means algorithm"
   ]
  },
  {
   "cell_type": "code",
   "execution_count": 43,
   "metadata": {},
   "outputs": [],
   "source": [
    "# Define the model Kmeans model by using k=3 clusters\n",
    "model = KMeans(n_clusters=3, random_state=0)\n",
    "\n",
    "# Fit the model\n",
    "model.fit(customers_transformed_df)\n",
    "\n",
    "# Make predictions\n",
    "k_3 = model.predict(customers_transformed_df)\n",
    "\n",
    "# Create a copy of the customers_transformed_df DataFrame\n",
    "customer_transformed_predictions_df = customers_transformed_df.copy()\n",
    "\n",
    "# Add a class column with the labels\n",
    "customers_transformed_df[\"customer_segments\"] = k_3"
   ]
  },
  {
   "cell_type": "code",
   "execution_count": 45,
   "metadata": {},
   "outputs": [
    {
     "data": {
      "text/html": [
       "<div>\n",
       "<style scoped>\n",
       "    .dataframe tbody tr th:only-of-type {\n",
       "        vertical-align: middle;\n",
       "    }\n",
       "\n",
       "    .dataframe tbody tr th {\n",
       "        vertical-align: top;\n",
       "    }\n",
       "\n",
       "    .dataframe thead th {\n",
       "        text-align: right;\n",
       "    }\n",
       "</style>\n",
       "<table border=\"1\" class=\"dataframe\">\n",
       "  <thead>\n",
       "    <tr style=\"text-align: right;\">\n",
       "      <th></th>\n",
       "      <th>feature_1</th>\n",
       "      <th>feature_2</th>\n",
       "      <th>feature_3</th>\n",
       "      <th>feature_4</th>\n",
       "      <th>feature_5</th>\n",
       "      <th>feature_6</th>\n",
       "      <th>feature_7</th>\n",
       "      <th>feature_8</th>\n",
       "      <th>feature_9</th>\n",
       "      <th>feature_10</th>\n",
       "      <th>customer_segments</th>\n",
       "    </tr>\n",
       "  </thead>\n",
       "  <tbody>\n",
       "    <tr>\n",
       "      <th>0</th>\n",
       "      <td>1.148534</td>\n",
       "      <td>4.606077</td>\n",
       "      <td>2.699069</td>\n",
       "      <td>-2.661824</td>\n",
       "      <td>1.526433</td>\n",
       "      <td>1.236671</td>\n",
       "      <td>0.211421</td>\n",
       "      <td>1.482896</td>\n",
       "      <td>-4.445627</td>\n",
       "      <td>-1.936831</td>\n",
       "      <td>1</td>\n",
       "    </tr>\n",
       "    <tr>\n",
       "      <th>1</th>\n",
       "      <td>-1.149410</td>\n",
       "      <td>-1.650549</td>\n",
       "      <td>2.530167</td>\n",
       "      <td>-3.227088</td>\n",
       "      <td>0.572138</td>\n",
       "      <td>4.162600</td>\n",
       "      <td>-0.291679</td>\n",
       "      <td>-1.237575</td>\n",
       "      <td>3.604765</td>\n",
       "      <td>-1.635689</td>\n",
       "      <td>0</td>\n",
       "    </tr>\n",
       "    <tr>\n",
       "      <th>2</th>\n",
       "      <td>0.332427</td>\n",
       "      <td>-0.887985</td>\n",
       "      <td>-0.309216</td>\n",
       "      <td>0.399891</td>\n",
       "      <td>0.828492</td>\n",
       "      <td>3.641945</td>\n",
       "      <td>-0.916946</td>\n",
       "      <td>-1.978024</td>\n",
       "      <td>1.056772</td>\n",
       "      <td>-1.882747</td>\n",
       "      <td>0</td>\n",
       "    </tr>\n",
       "    <tr>\n",
       "      <th>3</th>\n",
       "      <td>2.245599</td>\n",
       "      <td>3.826309</td>\n",
       "      <td>0.264039</td>\n",
       "      <td>0.095471</td>\n",
       "      <td>1.984380</td>\n",
       "      <td>0.373991</td>\n",
       "      <td>-0.280279</td>\n",
       "      <td>1.602786</td>\n",
       "      <td>-5.993331</td>\n",
       "      <td>-2.258925</td>\n",
       "      <td>1</td>\n",
       "    </tr>\n",
       "    <tr>\n",
       "      <th>4</th>\n",
       "      <td>0.705503</td>\n",
       "      <td>-1.312329</td>\n",
       "      <td>0.895406</td>\n",
       "      <td>-0.405408</td>\n",
       "      <td>1.116187</td>\n",
       "      <td>3.699562</td>\n",
       "      <td>-1.427985</td>\n",
       "      <td>-1.494409</td>\n",
       "      <td>1.156908</td>\n",
       "      <td>-1.434964</td>\n",
       "      <td>0</td>\n",
       "    </tr>\n",
       "    <tr>\n",
       "      <th>...</th>\n",
       "      <td>...</td>\n",
       "      <td>...</td>\n",
       "      <td>...</td>\n",
       "      <td>...</td>\n",
       "      <td>...</td>\n",
       "      <td>...</td>\n",
       "      <td>...</td>\n",
       "      <td>...</td>\n",
       "      <td>...</td>\n",
       "      <td>...</td>\n",
       "      <td>...</td>\n",
       "    </tr>\n",
       "    <tr>\n",
       "      <th>995</th>\n",
       "      <td>1.923516</td>\n",
       "      <td>2.387442</td>\n",
       "      <td>1.746617</td>\n",
       "      <td>-0.850014</td>\n",
       "      <td>1.333114</td>\n",
       "      <td>-0.522750</td>\n",
       "      <td>-0.699195</td>\n",
       "      <td>1.876106</td>\n",
       "      <td>-4.063120</td>\n",
       "      <td>-0.244857</td>\n",
       "      <td>1</td>\n",
       "    </tr>\n",
       "    <tr>\n",
       "      <th>996</th>\n",
       "      <td>-0.760810</td>\n",
       "      <td>-2.490720</td>\n",
       "      <td>1.530053</td>\n",
       "      <td>-1.501746</td>\n",
       "      <td>0.423792</td>\n",
       "      <td>5.947200</td>\n",
       "      <td>-1.271437</td>\n",
       "      <td>-3.398691</td>\n",
       "      <td>4.745373</td>\n",
       "      <td>-1.616856</td>\n",
       "      <td>0</td>\n",
       "    </tr>\n",
       "    <tr>\n",
       "      <th>997</th>\n",
       "      <td>1.259010</td>\n",
       "      <td>2.469579</td>\n",
       "      <td>2.766727</td>\n",
       "      <td>-2.218555</td>\n",
       "      <td>1.203872</td>\n",
       "      <td>0.255983</td>\n",
       "      <td>-0.411843</td>\n",
       "      <td>1.691254</td>\n",
       "      <td>-3.021626</td>\n",
       "      <td>-0.452561</td>\n",
       "      <td>1</td>\n",
       "    </tr>\n",
       "    <tr>\n",
       "      <th>998</th>\n",
       "      <td>-3.063652</td>\n",
       "      <td>-2.770077</td>\n",
       "      <td>2.086373</td>\n",
       "      <td>-3.500722</td>\n",
       "      <td>-0.767900</td>\n",
       "      <td>5.048482</td>\n",
       "      <td>0.444592</td>\n",
       "      <td>-3.050005</td>\n",
       "      <td>7.259299</td>\n",
       "      <td>-1.254483</td>\n",
       "      <td>0</td>\n",
       "    </tr>\n",
       "    <tr>\n",
       "      <th>999</th>\n",
       "      <td>-3.370452</td>\n",
       "      <td>-4.027235</td>\n",
       "      <td>5.097022</td>\n",
       "      <td>-6.491598</td>\n",
       "      <td>-0.148749</td>\n",
       "      <td>7.455842</td>\n",
       "      <td>-0.223963</td>\n",
       "      <td>-3.133751</td>\n",
       "      <td>9.424171</td>\n",
       "      <td>-1.646406</td>\n",
       "      <td>0</td>\n",
       "    </tr>\n",
       "  </tbody>\n",
       "</table>\n",
       "<p>1000 rows × 11 columns</p>\n",
       "</div>"
      ],
      "text/plain": [
       "     feature_1  feature_2  feature_3  feature_4  feature_5  feature_6  \\\n",
       "0     1.148534   4.606077   2.699069  -2.661824   1.526433   1.236671   \n",
       "1    -1.149410  -1.650549   2.530167  -3.227088   0.572138   4.162600   \n",
       "2     0.332427  -0.887985  -0.309216   0.399891   0.828492   3.641945   \n",
       "3     2.245599   3.826309   0.264039   0.095471   1.984380   0.373991   \n",
       "4     0.705503  -1.312329   0.895406  -0.405408   1.116187   3.699562   \n",
       "..         ...        ...        ...        ...        ...        ...   \n",
       "995   1.923516   2.387442   1.746617  -0.850014   1.333114  -0.522750   \n",
       "996  -0.760810  -2.490720   1.530053  -1.501746   0.423792   5.947200   \n",
       "997   1.259010   2.469579   2.766727  -2.218555   1.203872   0.255983   \n",
       "998  -3.063652  -2.770077   2.086373  -3.500722  -0.767900   5.048482   \n",
       "999  -3.370452  -4.027235   5.097022  -6.491598  -0.148749   7.455842   \n",
       "\n",
       "     feature_7  feature_8  feature_9  feature_10  customer_segments  \n",
       "0     0.211421   1.482896  -4.445627   -1.936831                  1  \n",
       "1    -0.291679  -1.237575   3.604765   -1.635689                  0  \n",
       "2    -0.916946  -1.978024   1.056772   -1.882747                  0  \n",
       "3    -0.280279   1.602786  -5.993331   -2.258925                  1  \n",
       "4    -1.427985  -1.494409   1.156908   -1.434964                  0  \n",
       "..         ...        ...        ...         ...                ...  \n",
       "995  -0.699195   1.876106  -4.063120   -0.244857                  1  \n",
       "996  -1.271437  -3.398691   4.745373   -1.616856                  0  \n",
       "997  -0.411843   1.691254  -3.021626   -0.452561                  1  \n",
       "998   0.444592  -3.050005   7.259299   -1.254483                  0  \n",
       "999  -0.223963  -3.133751   9.424171   -1.646406                  0  \n",
       "\n",
       "[1000 rows x 11 columns]"
      ]
     },
     "execution_count": 45,
     "metadata": {},
     "output_type": "execute_result"
    }
   ],
   "source": [
    "customer_transformed_predictions_df"
   ]
  },
  {
   "cell_type": "code",
   "execution_count": 44,
   "metadata": {},
   "outputs": [
    {
     "ename": "DataError",
     "evalue": "Supplied data does not contain specified dimensions, the following dimensions were not found: ['PCA1', 'PCA2']\n\nPandasInterface expects tabular data, for more information on supported datatypes see http://holoviews.org/user_guide/Tabular_Datasets.html",
     "output_type": "error",
     "traceback": [
      "\u001b[0;31m---------------------------------------------------------------------------\u001b[0m",
      "\u001b[0;31mDataError\u001b[0m                                 Traceback (most recent call last)",
      "\u001b[0;32m/var/folders/8p/wvrk3dr55dj7d4kvt9zwy5rh0000gn/T/ipykernel_37919/3871898486.py\u001b[0m in \u001b[0;36m<module>\u001b[0;34m\u001b[0m\n\u001b[1;32m      3\u001b[0m     \u001b[0mx\u001b[0m\u001b[0;34m=\u001b[0m\u001b[0;34m\"PCA1\"\u001b[0m\u001b[0;34m,\u001b[0m\u001b[0;34m\u001b[0m\u001b[0;34m\u001b[0m\u001b[0m\n\u001b[1;32m      4\u001b[0m     \u001b[0my\u001b[0m\u001b[0;34m=\u001b[0m\u001b[0;34m\"PCA2\"\u001b[0m\u001b[0;34m,\u001b[0m\u001b[0;34m\u001b[0m\u001b[0;34m\u001b[0m\u001b[0m\n\u001b[0;32m----> 5\u001b[0;31m     \u001b[0mby\u001b[0m\u001b[0;34m=\u001b[0m\u001b[0;34m\"customer_segments\"\u001b[0m\u001b[0;34m\u001b[0m\u001b[0;34m\u001b[0m\u001b[0m\n\u001b[0m\u001b[1;32m      6\u001b[0m )\n",
      "\u001b[0;32m~/opt/anaconda3/envs/dev/lib/python3.7/site-packages/hvplot/plotting/core.py\u001b[0m in \u001b[0;36mscatter\u001b[0;34m(self, x, y, **kwds)\u001b[0m\n\u001b[1;32m    197\u001b[0m             \u001b[0mThe\u001b[0m \u001b[0mHoloViews\u001b[0m \u001b[0mrepresentation\u001b[0m \u001b[0mof\u001b[0m \u001b[0mthe\u001b[0m \u001b[0mplot\u001b[0m\u001b[0;34m.\u001b[0m\u001b[0;34m\u001b[0m\u001b[0;34m\u001b[0m\u001b[0m\n\u001b[1;32m    198\u001b[0m         \"\"\"\n\u001b[0;32m--> 199\u001b[0;31m         \u001b[0;32mreturn\u001b[0m \u001b[0mself\u001b[0m\u001b[0;34m(\u001b[0m\u001b[0mx\u001b[0m\u001b[0;34m,\u001b[0m \u001b[0my\u001b[0m\u001b[0;34m,\u001b[0m \u001b[0mkind\u001b[0m\u001b[0;34m=\u001b[0m\u001b[0;34m'scatter'\u001b[0m\u001b[0;34m,\u001b[0m \u001b[0;34m**\u001b[0m\u001b[0mkwds\u001b[0m\u001b[0;34m)\u001b[0m\u001b[0;34m\u001b[0m\u001b[0;34m\u001b[0m\u001b[0m\n\u001b[0m\u001b[1;32m    200\u001b[0m \u001b[0;34m\u001b[0m\u001b[0m\n\u001b[1;32m    201\u001b[0m     \u001b[0;32mdef\u001b[0m \u001b[0marea\u001b[0m\u001b[0;34m(\u001b[0m\u001b[0mself\u001b[0m\u001b[0;34m,\u001b[0m \u001b[0mx\u001b[0m\u001b[0;34m=\u001b[0m\u001b[0;32mNone\u001b[0m\u001b[0;34m,\u001b[0m \u001b[0my\u001b[0m\u001b[0;34m=\u001b[0m\u001b[0;32mNone\u001b[0m\u001b[0;34m,\u001b[0m \u001b[0my2\u001b[0m\u001b[0;34m=\u001b[0m\u001b[0;32mNone\u001b[0m\u001b[0;34m,\u001b[0m \u001b[0mstacked\u001b[0m\u001b[0;34m=\u001b[0m\u001b[0;32mTrue\u001b[0m\u001b[0;34m,\u001b[0m \u001b[0;34m**\u001b[0m\u001b[0mkwds\u001b[0m\u001b[0;34m)\u001b[0m\u001b[0;34m:\u001b[0m\u001b[0;34m\u001b[0m\u001b[0;34m\u001b[0m\u001b[0m\n",
      "\u001b[0;32m~/opt/anaconda3/envs/dev/lib/python3.7/site-packages/hvplot/plotting/core.py\u001b[0m in \u001b[0;36m__call__\u001b[0;34m(self, x, y, kind, **kwds)\u001b[0m\n\u001b[1;32m     77\u001b[0m                 \u001b[0;32mreturn\u001b[0m \u001b[0mpn\u001b[0m\u001b[0;34m.\u001b[0m\u001b[0mpanel\u001b[0m\u001b[0;34m(\u001b[0m\u001b[0mplot\u001b[0m\u001b[0;34m,\u001b[0m \u001b[0;34m**\u001b[0m\u001b[0mpanel_dict\u001b[0m\u001b[0;34m)\u001b[0m\u001b[0;34m\u001b[0m\u001b[0;34m\u001b[0m\u001b[0m\n\u001b[1;32m     78\u001b[0m \u001b[0;34m\u001b[0m\u001b[0m\n\u001b[0;32m---> 79\u001b[0;31m         \u001b[0;32mreturn\u001b[0m \u001b[0mself\u001b[0m\u001b[0;34m.\u001b[0m\u001b[0m_get_converter\u001b[0m\u001b[0;34m(\u001b[0m\u001b[0mx\u001b[0m\u001b[0;34m,\u001b[0m \u001b[0my\u001b[0m\u001b[0;34m,\u001b[0m \u001b[0mkind\u001b[0m\u001b[0;34m,\u001b[0m \u001b[0;34m**\u001b[0m\u001b[0mkwds\u001b[0m\u001b[0;34m)\u001b[0m\u001b[0;34m(\u001b[0m\u001b[0mkind\u001b[0m\u001b[0;34m,\u001b[0m \u001b[0mx\u001b[0m\u001b[0;34m,\u001b[0m \u001b[0my\u001b[0m\u001b[0;34m)\u001b[0m\u001b[0;34m\u001b[0m\u001b[0;34m\u001b[0m\u001b[0m\n\u001b[0m\u001b[1;32m     80\u001b[0m \u001b[0;34m\u001b[0m\u001b[0m\n\u001b[1;32m     81\u001b[0m     \u001b[0;32mdef\u001b[0m \u001b[0m_get_converter\u001b[0m\u001b[0;34m(\u001b[0m\u001b[0mself\u001b[0m\u001b[0;34m,\u001b[0m \u001b[0mx\u001b[0m\u001b[0;34m=\u001b[0m\u001b[0;32mNone\u001b[0m\u001b[0;34m,\u001b[0m \u001b[0my\u001b[0m\u001b[0;34m=\u001b[0m\u001b[0;32mNone\u001b[0m\u001b[0;34m,\u001b[0m \u001b[0mkind\u001b[0m\u001b[0;34m=\u001b[0m\u001b[0;32mNone\u001b[0m\u001b[0;34m,\u001b[0m \u001b[0;34m**\u001b[0m\u001b[0mkwds\u001b[0m\u001b[0;34m)\u001b[0m\u001b[0;34m:\u001b[0m\u001b[0;34m\u001b[0m\u001b[0;34m\u001b[0m\u001b[0m\n",
      "\u001b[0;32m~/opt/anaconda3/envs/dev/lib/python3.7/site-packages/hvplot/converter.py\u001b[0m in \u001b[0;36m__call__\u001b[0;34m(self, kind, x, y)\u001b[0m\n\u001b[1;32m   1135\u001b[0m                         \u001b[0mdataset\u001b[0m \u001b[0;34m=\u001b[0m \u001b[0mDataset\u001b[0m\u001b[0;34m(\u001b[0m\u001b[0mdata\u001b[0m\u001b[0;34m)\u001b[0m\u001b[0;34m\u001b[0m\u001b[0;34m\u001b[0m\u001b[0m\n\u001b[1;32m   1136\u001b[0m                     \u001b[0mdataset\u001b[0m \u001b[0;34m=\u001b[0m \u001b[0mdataset\u001b[0m\u001b[0;34m.\u001b[0m\u001b[0mredim\u001b[0m\u001b[0;34m(\u001b[0m\u001b[0;34m**\u001b[0m\u001b[0mself\u001b[0m\u001b[0;34m.\u001b[0m\u001b[0m_redim\u001b[0m\u001b[0;34m)\u001b[0m\u001b[0;34m\u001b[0m\u001b[0;34m\u001b[0m\u001b[0m\n\u001b[0;32m-> 1137\u001b[0;31m                 \u001b[0mobj\u001b[0m \u001b[0;34m=\u001b[0m \u001b[0mmethod\u001b[0m\u001b[0;34m(\u001b[0m\u001b[0mx\u001b[0m\u001b[0;34m,\u001b[0m \u001b[0my\u001b[0m\u001b[0;34m)\u001b[0m\u001b[0;34m\u001b[0m\u001b[0;34m\u001b[0m\u001b[0m\n\u001b[0m\u001b[1;32m   1138\u001b[0m                 \u001b[0mobj\u001b[0m\u001b[0;34m.\u001b[0m\u001b[0m_dataset\u001b[0m \u001b[0;34m=\u001b[0m \u001b[0mdataset\u001b[0m\u001b[0;34m\u001b[0m\u001b[0;34m\u001b[0m\u001b[0m\n\u001b[1;32m   1139\u001b[0m \u001b[0;34m\u001b[0m\u001b[0m\n",
      "\u001b[0;32m~/opt/anaconda3/envs/dev/lib/python3.7/site-packages/hvplot/converter.py\u001b[0m in \u001b[0;36mscatter\u001b[0;34m(self, x, y, data)\u001b[0m\n\u001b[1;32m   1472\u001b[0m \u001b[0;34m\u001b[0m\u001b[0m\n\u001b[1;32m   1473\u001b[0m     \u001b[0;32mdef\u001b[0m \u001b[0mscatter\u001b[0m\u001b[0;34m(\u001b[0m\u001b[0mself\u001b[0m\u001b[0;34m,\u001b[0m \u001b[0mx\u001b[0m\u001b[0;34m=\u001b[0m\u001b[0;32mNone\u001b[0m\u001b[0;34m,\u001b[0m \u001b[0my\u001b[0m\u001b[0;34m=\u001b[0m\u001b[0;32mNone\u001b[0m\u001b[0;34m,\u001b[0m \u001b[0mdata\u001b[0m\u001b[0;34m=\u001b[0m\u001b[0;32mNone\u001b[0m\u001b[0;34m)\u001b[0m\u001b[0;34m:\u001b[0m\u001b[0;34m\u001b[0m\u001b[0;34m\u001b[0m\u001b[0m\n\u001b[0;32m-> 1474\u001b[0;31m         \u001b[0;32mreturn\u001b[0m \u001b[0mself\u001b[0m\u001b[0;34m.\u001b[0m\u001b[0mchart\u001b[0m\u001b[0;34m(\u001b[0m\u001b[0mScatter\u001b[0m\u001b[0;34m,\u001b[0m \u001b[0mx\u001b[0m\u001b[0;34m,\u001b[0m \u001b[0my\u001b[0m\u001b[0;34m,\u001b[0m \u001b[0mdata\u001b[0m\u001b[0;34m)\u001b[0m\u001b[0;34m\u001b[0m\u001b[0;34m\u001b[0m\u001b[0m\n\u001b[0m\u001b[1;32m   1475\u001b[0m \u001b[0;34m\u001b[0m\u001b[0m\n\u001b[1;32m   1476\u001b[0m     \u001b[0;32mdef\u001b[0m \u001b[0marea\u001b[0m\u001b[0;34m(\u001b[0m\u001b[0mself\u001b[0m\u001b[0;34m,\u001b[0m \u001b[0mx\u001b[0m\u001b[0;34m=\u001b[0m\u001b[0;32mNone\u001b[0m\u001b[0;34m,\u001b[0m \u001b[0my\u001b[0m\u001b[0;34m=\u001b[0m\u001b[0;32mNone\u001b[0m\u001b[0;34m,\u001b[0m \u001b[0mdata\u001b[0m\u001b[0;34m=\u001b[0m\u001b[0;32mNone\u001b[0m\u001b[0;34m)\u001b[0m\u001b[0;34m:\u001b[0m\u001b[0;34m\u001b[0m\u001b[0;34m\u001b[0m\u001b[0m\n",
      "\u001b[0;32m~/opt/anaconda3/envs/dev/lib/python3.7/site-packages/hvplot/converter.py\u001b[0m in \u001b[0;36mchart\u001b[0;34m(self, element, x, y, data)\u001b[0m\n\u001b[1;32m   1442\u001b[0m         \u001b[0mdata\u001b[0m\u001b[0;34m,\u001b[0m \u001b[0mx\u001b[0m\u001b[0;34m,\u001b[0m \u001b[0my\u001b[0m \u001b[0;34m=\u001b[0m \u001b[0mself\u001b[0m\u001b[0;34m.\u001b[0m\u001b[0m_process_chart_args\u001b[0m\u001b[0;34m(\u001b[0m\u001b[0mdata\u001b[0m\u001b[0;34m,\u001b[0m \u001b[0mx\u001b[0m\u001b[0;34m,\u001b[0m \u001b[0my\u001b[0m\u001b[0;34m)\u001b[0m\u001b[0;34m\u001b[0m\u001b[0;34m\u001b[0m\u001b[0m\n\u001b[1;32m   1443\u001b[0m         \u001b[0;32mif\u001b[0m \u001b[0mx\u001b[0m \u001b[0;32mand\u001b[0m \u001b[0my\u001b[0m \u001b[0;32mand\u001b[0m \u001b[0;32mnot\u001b[0m \u001b[0misinstance\u001b[0m\u001b[0;34m(\u001b[0m\u001b[0my\u001b[0m\u001b[0;34m,\u001b[0m \u001b[0;34m(\u001b[0m\u001b[0mlist\u001b[0m\u001b[0;34m,\u001b[0m \u001b[0mtuple\u001b[0m\u001b[0;34m)\u001b[0m\u001b[0;34m)\u001b[0m\u001b[0;34m:\u001b[0m\u001b[0;34m\u001b[0m\u001b[0;34m\u001b[0m\u001b[0m\n\u001b[0;32m-> 1444\u001b[0;31m             \u001b[0;32mreturn\u001b[0m \u001b[0mself\u001b[0m\u001b[0;34m.\u001b[0m\u001b[0msingle_chart\u001b[0m\u001b[0;34m(\u001b[0m\u001b[0melement\u001b[0m\u001b[0;34m,\u001b[0m \u001b[0mx\u001b[0m\u001b[0;34m,\u001b[0m \u001b[0my\u001b[0m\u001b[0;34m,\u001b[0m \u001b[0mdata\u001b[0m\u001b[0;34m)\u001b[0m\u001b[0;34m\u001b[0m\u001b[0;34m\u001b[0m\u001b[0m\n\u001b[0m\u001b[1;32m   1445\u001b[0m         \u001b[0;32melif\u001b[0m \u001b[0mx\u001b[0m \u001b[0;32mand\u001b[0m \u001b[0my\u001b[0m \u001b[0;32mand\u001b[0m \u001b[0mlen\u001b[0m\u001b[0;34m(\u001b[0m\u001b[0my\u001b[0m\u001b[0;34m)\u001b[0m \u001b[0;34m==\u001b[0m \u001b[0;36m1\u001b[0m\u001b[0;34m:\u001b[0m\u001b[0;34m\u001b[0m\u001b[0;34m\u001b[0m\u001b[0m\n\u001b[1;32m   1446\u001b[0m             \u001b[0;32mreturn\u001b[0m \u001b[0mself\u001b[0m\u001b[0;34m.\u001b[0m\u001b[0msingle_chart\u001b[0m\u001b[0;34m(\u001b[0m\u001b[0melement\u001b[0m\u001b[0;34m,\u001b[0m \u001b[0mx\u001b[0m\u001b[0;34m,\u001b[0m \u001b[0my\u001b[0m\u001b[0;34m[\u001b[0m\u001b[0;36m0\u001b[0m\u001b[0;34m]\u001b[0m\u001b[0;34m,\u001b[0m \u001b[0mdata\u001b[0m\u001b[0;34m)\u001b[0m\u001b[0;34m\u001b[0m\u001b[0;34m\u001b[0m\u001b[0m\n",
      "\u001b[0;32m~/opt/anaconda3/envs/dev/lib/python3.7/site-packages/hvplot/converter.py\u001b[0m in \u001b[0;36msingle_chart\u001b[0;34m(self, element, x, y, data)\u001b[0m\n\u001b[1;32m   1362\u001b[0m                         \u001b[0;34m.\u001b[0m\u001b[0mredim\u001b[0m\u001b[0;34m(\u001b[0m\u001b[0;34m**\u001b[0m\u001b[0mself\u001b[0m\u001b[0;34m.\u001b[0m\u001b[0m_redim\u001b[0m\u001b[0;34m)\u001b[0m\u001b[0;34m\u001b[0m\u001b[0;34m\u001b[0m\u001b[0m\n\u001b[1;32m   1363\u001b[0m                         .opts(opts))\n\u001b[0;32m-> 1364\u001b[0;31m             chart = Dataset(data, self.by+kdims, vdims).to(\n\u001b[0m\u001b[1;32m   1365\u001b[0m                 element, kdims, vdims, self.by).relabel(**self._relabel)\n\u001b[1;32m   1366\u001b[0m             \u001b[0mchart\u001b[0m \u001b[0;34m=\u001b[0m \u001b[0mchart\u001b[0m\u001b[0;34m.\u001b[0m\u001b[0mlayout\u001b[0m\u001b[0;34m(\u001b[0m\u001b[0;34m)\u001b[0m \u001b[0;32mif\u001b[0m \u001b[0mself\u001b[0m\u001b[0;34m.\u001b[0m\u001b[0msubplots\u001b[0m \u001b[0;32melse\u001b[0m \u001b[0mchart\u001b[0m\u001b[0;34m.\u001b[0m\u001b[0moverlay\u001b[0m\u001b[0;34m(\u001b[0m\u001b[0msort\u001b[0m\u001b[0;34m=\u001b[0m\u001b[0;32mFalse\u001b[0m\u001b[0;34m)\u001b[0m\u001b[0;34m\u001b[0m\u001b[0;34m\u001b[0m\u001b[0m\n",
      "\u001b[0;32m~/opt/anaconda3/envs/dev/lib/python3.7/site-packages/holoviews/core/data/__init__.py\u001b[0m in \u001b[0;36m__init__\u001b[0;34m(self, data, kdims, vdims, **kwargs)\u001b[0m\n\u001b[1;32m    343\u001b[0m         \u001b[0;34m(\u001b[0m\u001b[0mdata\u001b[0m\u001b[0;34m,\u001b[0m \u001b[0mself\u001b[0m\u001b[0;34m.\u001b[0m\u001b[0minterface\u001b[0m\u001b[0;34m,\u001b[0m \u001b[0mdims\u001b[0m\u001b[0;34m,\u001b[0m \u001b[0mextra_kws\u001b[0m\u001b[0;34m)\u001b[0m \u001b[0;34m=\u001b[0m \u001b[0minitialized\u001b[0m\u001b[0;34m\u001b[0m\u001b[0;34m\u001b[0m\u001b[0m\n\u001b[1;32m    344\u001b[0m         \u001b[0msuper\u001b[0m\u001b[0;34m(\u001b[0m\u001b[0mDataset\u001b[0m\u001b[0;34m,\u001b[0m \u001b[0mself\u001b[0m\u001b[0;34m)\u001b[0m\u001b[0;34m.\u001b[0m\u001b[0m__init__\u001b[0m\u001b[0;34m(\u001b[0m\u001b[0mdata\u001b[0m\u001b[0;34m,\u001b[0m \u001b[0;34m**\u001b[0m\u001b[0mdict\u001b[0m\u001b[0;34m(\u001b[0m\u001b[0mkwargs\u001b[0m\u001b[0;34m,\u001b[0m \u001b[0;34m**\u001b[0m\u001b[0mdict\u001b[0m\u001b[0;34m(\u001b[0m\u001b[0mdims\u001b[0m\u001b[0;34m,\u001b[0m \u001b[0;34m**\u001b[0m\u001b[0mextra_kws\u001b[0m\u001b[0;34m)\u001b[0m\u001b[0;34m)\u001b[0m\u001b[0;34m)\u001b[0m\u001b[0;34m\u001b[0m\u001b[0;34m\u001b[0m\u001b[0m\n\u001b[0;32m--> 345\u001b[0;31m         \u001b[0mself\u001b[0m\u001b[0;34m.\u001b[0m\u001b[0minterface\u001b[0m\u001b[0;34m.\u001b[0m\u001b[0mvalidate\u001b[0m\u001b[0;34m(\u001b[0m\u001b[0mself\u001b[0m\u001b[0;34m,\u001b[0m \u001b[0mvalidate_vdims\u001b[0m\u001b[0;34m)\u001b[0m\u001b[0;34m\u001b[0m\u001b[0;34m\u001b[0m\u001b[0m\n\u001b[0m\u001b[1;32m    346\u001b[0m \u001b[0;34m\u001b[0m\u001b[0m\n\u001b[1;32m    347\u001b[0m         \u001b[0;31m# Handle _pipeline property\u001b[0m\u001b[0;34m\u001b[0m\u001b[0;34m\u001b[0m\u001b[0;34m\u001b[0m\u001b[0m\n",
      "\u001b[0;32m~/opt/anaconda3/envs/dev/lib/python3.7/site-packages/holoviews/core/data/pandas.py\u001b[0m in \u001b[0;36mvalidate\u001b[0;34m(cls, dataset, vdims)\u001b[0m\n\u001b[1;32m    156\u001b[0m             raise DataError(\"Supplied data does not contain specified \"\n\u001b[1;32m    157\u001b[0m                             \u001b[0;34m\"dimensions, the following dimensions were \"\u001b[0m\u001b[0;34m\u001b[0m\u001b[0;34m\u001b[0m\u001b[0m\n\u001b[0;32m--> 158\u001b[0;31m                             \"not found: %s\" % repr(not_found), cls)\n\u001b[0m\u001b[1;32m    159\u001b[0m \u001b[0;34m\u001b[0m\u001b[0m\n\u001b[1;32m    160\u001b[0m \u001b[0;34m\u001b[0m\u001b[0m\n",
      "\u001b[0;31mDataError\u001b[0m: Supplied data does not contain specified dimensions, the following dimensions were not found: ['PCA1', 'PCA2']\n\nPandasInterface expects tabular data, for more information on supported datatypes see http://holoviews.org/user_guide/Tabular_Datasets.html"
     ]
    }
   ],
   "source": [
    "# Plot the clusters by using the age and spending columns\n",
    "customer_transformed_predictions_df.hvplot.scatter(\n",
    "    x=\"\",\n",
    "    y=\"PCA2\",\n",
    "    by=\"customer_segments\"\n",
    ")"
   ]
  },
  {
   "cell_type": "markdown",
   "metadata": {},
   "source": [
    "## Part 5: Compare the segmentation results between the PCA DataFrame and the full-factored DataFrame"
   ]
  },
  {
   "cell_type": "markdown",
   "metadata": {},
   "source": [
    "**Answer:** # YOUR ANSWER HERE"
   ]
  },
  {
   "cell_type": "code",
   "execution_count": null,
   "metadata": {},
   "outputs": [],
   "source": []
  }
 ],
 "metadata": {
  "kernelspec": {
   "display_name": "Python 3 (ipykernel)",
   "language": "python",
   "name": "python3"
  },
  "language_info": {
   "codemirror_mode": {
    "name": "ipython",
    "version": 3
   },
   "file_extension": ".py",
   "mimetype": "text/x-python",
   "name": "python",
   "nbconvert_exporter": "python",
   "pygments_lexer": "ipython3",
   "version": "3.7.11"
  }
 },
 "nbformat": 4,
 "nbformat_minor": 4
}
